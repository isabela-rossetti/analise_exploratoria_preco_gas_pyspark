{
  "nbformat": 4,
  "nbformat_minor": 0,
  "metadata": {
    "colab": {
      "provenance": [],
      "collapsed_sections": [
        "-VYiuYBitT_W",
        "92KU5Fr7vbFR",
        "heLb6F_4v2N6",
        "1yxBIkGbwD6I",
        "r9hq49w6wM0E",
        "4jM6wmzNtTsl",
        "apDmUfqIF-Jy",
        "8IE7ixAGXAhr",
        "l3IM7ev7qmOY",
        "5TIKffusK3A5",
        "bGH_0E4LGAZ8",
        "6EOgNpa3NDoB",
        "rPZsm-olbS9k",
        "42xkMcNGKvJ3",
        "GhXRoOcJXRuN",
        "mc7-8Lj3J7nn",
        "Q6UPRVH3ogNW"
      ],
      "include_colab_link": true
    },
    "kernelspec": {
      "name": "python3",
      "display_name": "Python 3"
    },
    "language_info": {
      "name": "python"
    }
  },
  "cells": [
    {
      "cell_type": "markdown",
      "metadata": {
        "id": "view-in-github",
        "colab_type": "text"
      },
      "source": [
        "<a href=\"https://colab.research.google.com/github/isabela-rossetti/analise_exploratoria_preco_gas_pyspark/blob/main/analise_exploratoria_preco_gas_anp.ipynb\" target=\"_parent\"><img src=\"https://colab.research.google.com/assets/colab-badge.svg\" alt=\"Open In Colab\"/></a>"
      ]
    },
    {
      "cell_type": "markdown",
      "source": [
        "# **Análise Exploratória de dados com PySpark**"
      ],
      "metadata": {
        "id": "io7ILx1wtyb-"
      }
    },
    {
      "cell_type": "markdown",
      "source": [
        "O Brasil passa por um aumento significativo de preços, inclusive do GLP - Gás Liquefeito de Petróleo, distribuído para a população em botijões de 13Kg, e que é popularmanete conhecido como Gás de Cozinha ou Botijão de Gás. Nesta análise utilizei os dados resultantes de uma pesquisa conduzida no mês de dezembro de 2021 pela ANP e divulgada no portal de dados abertos do Governo Federal do Brasil. "
      ],
      "metadata": {
        "id": "BzUaxuTBucE8"
      }
    },
    {
      "cell_type": "markdown",
      "source": [
        "## **Preparando o ambiente para utilizar o PySpark**"
      ],
      "metadata": {
        "id": "-VYiuYBitT_W"
      }
    },
    {
      "cell_type": "markdown",
      "source": [
        "### **Instalando o Java**"
      ],
      "metadata": {
        "id": "92KU5Fr7vbFR"
      }
    },
    {
      "cell_type": "markdown",
      "source": [
        "O Apache Spark depende de outros sistemas, portanto, antes do Spark é preciso instalar as dependências. Primeiro, deve-se instalar o java"
      ],
      "metadata": {
        "id": "IX_whX7tudF1"
      }
    },
    {
      "cell_type": "code",
      "execution_count": 1,
      "metadata": {
        "id": "CzlKrPTjtG1x"
      },
      "outputs": [],
      "source": [
        "!apt-get install openjdk-8-jdk-headless -qq > /dev/null"
      ]
    },
    {
      "cell_type": "markdown",
      "source": [
        "### **Instalando o Apache Spark**"
      ],
      "metadata": {
        "id": "heLb6F_4v2N6"
      }
    },
    {
      "cell_type": "markdown",
      "source": [
        "Em seguida, é preciso fazer o download do Spark, e, também, do hadoop, pois o Apache Spark roda sob o HDFS, em sua máquina (no caso aqui, na máquina virtual do Google Colab que você está usando."
      ],
      "metadata": {
        "id": "vm1tKyRcu4k_"
      }
    },
    {
      "cell_type": "code",
      "source": [
        "# Fazendo download\n",
        "!wget -q https://archive.apache.org/dist/spark/spark-3.1.2/spark-3.1.2-bin-hadoop2.7.tgz\n",
        "\n",
        "# Descompactando os arquivos\n",
        "!tar xf spark-3.1.2-bin-hadoop2.7.tgz"
      ],
      "metadata": {
        "id": "V_vW2VKRvNee"
      },
      "execution_count": 2,
      "outputs": []
    },
    {
      "cell_type": "markdown",
      "source": [
        "### **Configurando o ambiente**"
      ],
      "metadata": {
        "id": "1yxBIkGbwD6I"
      }
    },
    {
      "cell_type": "markdown",
      "source": [
        "Pronto! Agora precisamos dizer para o sistema onde encontrar o Java e o Spark, que instalamos a pouco neste ambiente."
      ],
      "metadata": {
        "id": "tlAVX6VZwwTl"
      }
    },
    {
      "cell_type": "code",
      "source": [
        "# Importando a biblioteca os\n",
        "import os\n",
        "\n",
        "# Definindo a variável de ambiente do Java\n",
        "os.environ[\"JAVA_HOME\"] = \"/usr/lib/jvm/java-8-openjdk-amd64\"\n",
        "\n",
        "# Definindo a variável de ambiente do Spark\n",
        "os.environ[\"SPARK_HOME\"] = \"/content/spark-3.1.2-bin-hadoop2.7\""
      ],
      "metadata": {
        "id": "wXbSqJX-xtbc"
      },
      "execution_count": 3,
      "outputs": []
    },
    {
      "cell_type": "markdown",
      "source": [
        "A seguir, vamos precisar da biblioteca findspark que vai nos permitir importar pacotes necessários para o funcionamento do pyspark\n",
        "\n"
      ],
      "metadata": {
        "id": "C5mzwT-kyCS_"
      }
    },
    {
      "cell_type": "code",
      "source": [
        "# instalando a findspark\n",
        "!pip install -q findspark"
      ],
      "metadata": {
        "id": "0GuIDF0kvZ4d"
      },
      "execution_count": 4,
      "outputs": []
    },
    {
      "cell_type": "code",
      "source": [
        "#importando a findspark\n",
        "import findspark\n",
        "\n",
        "# iniciando o findspark\n",
        "findspark.init()"
      ],
      "metadata": {
        "id": "t6D_kgUSyBzx"
      },
      "execution_count": 5,
      "outputs": []
    },
    {
      "cell_type": "markdown",
      "source": [
        "## **Iniciando o PySpark**"
      ],
      "metadata": {
        "id": "r9hq49w6wM0E"
      }
    },
    {
      "cell_type": "markdown",
      "source": [
        "Tudo certo até aqui? Ótimo, então agora vamos abrir um sessão Spark para poder trabalhar com este FrameWork."
      ],
      "metadata": {
        "id": "_78SZCzX06ZA"
      }
    },
    {
      "cell_type": "code",
      "source": [
        "# importando o pacote necessário\n",
        "from pyspark.sql import SparkSession"
      ],
      "metadata": {
        "id": "KMmSadwyXN-H"
      },
      "execution_count": 6,
      "outputs": []
    },
    {
      "cell_type": "code",
      "source": [
        "# iniciando o spark context\n",
        "sc = SparkSession.builder.master('local[*]').getOrCreate()\n",
        "\n",
        "# Verificando se a sessão foi criada\n",
        "sc"
      ],
      "metadata": {
        "id": "qEDpAYxS1Lkt",
        "colab": {
          "base_uri": "https://localhost:8080/",
          "height": 0
        },
        "outputId": "885b4f51-75e8-4b7d-908f-36f9f63efbe4"
      },
      "execution_count": 7,
      "outputs": [
        {
          "output_type": "execute_result",
          "data": {
            "text/plain": [
              "<pyspark.sql.session.SparkSession at 0x7f57410d3b80>"
            ],
            "text/html": [
              "\n",
              "            <div>\n",
              "                <p><b>SparkSession - in-memory</b></p>\n",
              "                \n",
              "        <div>\n",
              "            <p><b>SparkContext</b></p>\n",
              "\n",
              "            <p><a href=\"http://cf70de601535:4040\">Spark UI</a></p>\n",
              "\n",
              "            <dl>\n",
              "              <dt>Version</dt>\n",
              "                <dd><code>v3.1.2</code></dd>\n",
              "              <dt>Master</dt>\n",
              "                <dd><code>local[*]</code></dd>\n",
              "              <dt>AppName</dt>\n",
              "                <dd><code>pyspark-shell</code></dd>\n",
              "            </dl>\n",
              "        </div>\n",
              "        \n",
              "            </div>\n",
              "        "
            ]
          },
          "metadata": {},
          "execution_count": 7
        }
      ]
    },
    {
      "cell_type": "markdown",
      "source": [
        "## **Ingestão dos dados para o Apache Spark**"
      ],
      "metadata": {
        "id": "4jM6wmzNtTsl"
      }
    },
    {
      "cell_type": "code",
      "source": [
        "# download de um conjunto de dados aberto\n",
        "# fonte: https://dados.gov.br/dataset/serie-historica-de-precos-de-combustiveis-por-revenda\n",
        "!wget --verbose --show-progress --no-check-certificate https://www.gov.br/anp/pt-br/centrais-de-conteudo/dados-abertos/arquivos/shpc/dsan/2021/dados-abertos-precos-2021-12-glp.csv"
      ],
      "metadata": {
        "colab": {
          "base_uri": "https://localhost:8080/"
        },
        "id": "6Hr7siMc9onI",
        "outputId": "9a7df2a7-cf2f-4b3f-94f1-4a46e6dbd4c8"
      },
      "execution_count": 8,
      "outputs": [
        {
          "output_type": "stream",
          "name": "stdout",
          "text": [
            "--2022-12-05 18:34:39--  https://www.gov.br/anp/pt-br/centrais-de-conteudo/dados-abertos/arquivos/shpc/dsan/2021/dados-abertos-precos-2021-12-glp.csv\n",
            "Resolving www.gov.br (www.gov.br)... 161.148.164.31\n",
            "Connecting to www.gov.br (www.gov.br)|161.148.164.31|:443... connected.\n",
            "HTTP request sent, awaiting response... 200 OK\n",
            "Length: 2623526 (2.5M) [text/csv]\n",
            "Saving to: ‘dados-abertos-precos-2021-12-glp.csv’\n",
            "\n",
            "dados-abertos-preco 100%[===================>]   2.50M   465KB/s    in 7.9s    \n",
            "\n",
            "2022-12-05 18:34:48 (325 KB/s) - ‘dados-abertos-precos-2021-12-glp.csv’ saved [2623526/2623526]\n",
            "\n"
          ]
        }
      ]
    },
    {
      "cell_type": "code",
      "source": [
        " # carregando o conjunto de dados\n",
        "df = sc.read.csv(\"/content/dados-abertos-precos-2021-12-glp.csv\", \n",
        "                       inferSchema=True, header=True,\n",
        "                       sep = ';',\n",
        "                       encoding = \"UTF-8\")"
      ],
      "metadata": {
        "id": "OSY8AiTW9rMI"
      },
      "execution_count": 9,
      "outputs": []
    },
    {
      "cell_type": "code",
      "source": [
        "# Espiando o dataset\n",
        "df.show()"
      ],
      "metadata": {
        "colab": {
          "base_uri": "https://localhost:8080/"
        },
        "id": "nCsAdoV8ir-w",
        "outputId": "a1641164-df7d-4fe5-e893-67ccd1203514"
      },
      "execution_count": 10,
      "outputs": [
        {
          "output_type": "stream",
          "name": "stdout",
          "text": [
            "+--------------+--------------+------------+--------------------+-------------------+--------------------+----------+----------------+-----------------+---------+-------+--------------+--------------+---------------+-----------------+--------------------+\n",
            "|Regiao - Sigla|Estado - Sigla|   Municipio|             Revenda|    CNPJ da Revenda|         Nome da Rua|Numero Rua|     Complemento|           Bairro|      Cep|Produto|Data da Coleta|Valor de Venda|Valor de Compra|Unidade de Medida|            Bandeira|\n",
            "+--------------+--------------+------------+--------------------+-------------------+--------------------+----------+----------------+-----------------+---------+-------+--------------+--------------+---------------+-----------------+--------------------+\n",
            "|            SE|            SP| SAO VICENTE|CONSIGAZ DISTRIBU...| 01.597.589/0003-81| RUA MANOEL DE ABREU|       790|      QUADRA 108|   CIDADE NAUTICA|11355-400|    GLP|    01/12/2021|         97,99|           null|       R$ / 13 kg|            CONSIGAZ|\n",
            "|             N|            AC|  RIO BRANCO|AUTO POSTO AMAPA ...| 00.529.581/0001-53|    VIA CHICO MENDES|      3570|            null|            AREAL|69906-119|    GLP|    01/12/2021|           115|           null|       R$ / 13 kg|               FOGAS|\n",
            "|             N|            AC|  RIO BRANCO|AUTO POSTO ACAUAN...| 00.524.999/0001-78|       RODOVIA AC 40|      1800|            null|        VILA ACRE|69902-450|    GLP|    01/12/2021|           110|           null|       R$ / 13 kg|           AMAZONGÁS|\n",
            "|             N|            AC|  RIO BRANCO|AUTO POSTO CANIND...| 05.442.544/0001-27|       RODOVIA AC 40|      3206|           KM 07|        VILA ACRE|69902-450|    GLP|    01/12/2021|           115|           null|       R$ / 13 kg|           AMAZONGÁS|\n",
            "|             N|            AC|  RIO BRANCO|AUTO POSTO AEROPO...| 14.294.227/0001-00|      V CHICO MENDES|      2583|            null|           COMARA|69906-326|    GLP|    01/12/2021|           115|           null|       R$ / 13 kg|           AMAZONGÁS|\n",
            "|            CO|            DF|    BRASILIA|SOUSA & ALVES COM...| 07.111.605/0001-07| QNM 15 LOTE G AR...|       S/N|            null|        CEILANDIA|72215-150|    GLP|    01/12/2021|         99,99|           null|       R$ / 13 kg|SUPERGASBRAS ENERGIA|\n",
            "|            CO|            DF|    BRASILIA|MARLIM COMBUSTIVE...| 04.494.011/0001-26|          QNO 06 PLL|       S/N|            null|        CEILÂNDIA|72237-100|    GLP|    01/12/2021|         98,99|           null|       R$ / 13 kg|            LIQUIGÁS|\n",
            "|            CO|            DF|    BRASILIA|AUTO SHOPPING DER...| 37.063.328/0009-14| QI 19 LOTES 02 E 04|       S/N|SETOR INDUSTRIAL|       TAGUATINGA|72120-190|    GLP|    01/12/2021|         98,99|           null|       R$ / 13 kg|            ULTRAGAZ|\n",
            "|            CO|            DF|    BRASILIA|LR COMERCIO DE PR...| 24.912.669/0001-18|              QNO 15|       S/N|        LOTE PLL|        CEILANDIA|72255-600|    GLP|    01/12/2021|         99,99|           null|       R$ / 13 kg|              BRANCA|\n",
            "|            CO|            DF|    BRASILIA|CASCOL COMBUSTIVE...| 00.306.597/0015-00|QUADRA QR 516 CON...|         1|            null|    SAMAMBAIA SUL|70772-500|    GLP|    01/12/2021|         99,99|           null|       R$ / 13 kg|            ULTRAGAZ|\n",
            "|            CO|            DF|    BRASILIA|CASCOL COMBUSTIVE...| 00.306.597/0017-64|   QUADRA QNO 05 PLL|       S/N|            null|        CEILANDIA|72251-000|    GLP|    01/12/2021|         99,99|           null|       R$ / 13 kg|            LIQUIGÁS|\n",
            "|            CO|            DF|    BRASILIA|CASCOL COMBUSTIVE...| 00.306.597/0008-73|   SETOR CSD 06 LOTE|        36|     SETOR D SUL|       TAGUATINGA|72020-000|    GLP|    01/12/2021|         97,99|           null|       R$ / 13 kg|            ULTRAGAZ|\n",
            "|            CO|            MS|CAMPO GRANDE|POSTO DOS PODERES...| 24.624.785/0001-31|    AVENIDA DO POETA|       990|            null| DO DESBARRANCADO|79031-350|    GLP|    01/12/2021|           100|           null|       R$ / 13 kg|SUPERGASBRAS ENERGIA|\n",
            "|            CO|            MS|CAMPO GRANDE|RIBEIRO DE MENDON...| 16.045.015/0001-06| AVENIDA AFONSO PENA|      5264|            null|CHACARA CACHOEIRA|79040-010|    GLP|    01/12/2021|           116|           null|       R$ / 13 kg|             COPAGAZ|\n",
            "|            CO|            MS|CAMPO GRANDE|AUTO POSTO MALIBU...| 02.110.486/0001-46|RUA JOSE NOGUEIRA...|      1310|            null|       TIRADENTES|79042-010|    GLP|    01/12/2021|         95,99|           null|       R$ / 13 kg|            LIQUIGÁS|\n",
            "|            CO|            MS|CAMPO GRANDE| POSTO ROUXINOL LTDA| 00.413.865/0001-80|    AVENIDA ROUXINOL|        35|            null|       TIRADENTES|79041-150|    GLP|    01/12/2021|            98|           null|       R$ / 13 kg|             COPAGAZ|\n",
            "|            CO|            MS|    DOURADOS|GABIATTI & GABIAT...| 04.075.654/0001-35|RUA CORONEL PONCIANO|      2230|            null|  VILA INDUSTRIAL|79840-230|    GLP|    01/12/2021|            95|           null|       R$ / 13 kg|            LIQUIGÁS|\n",
            "|             N|            PA|       BELEM|AUTO POSTO GK EIRELI| 07.909.407/0001-85|AVENIDA DUQUE DE ...|      1169|            null|            MARCO|66093-400|    GLP|    01/12/2021|           112|           null|       R$ / 13 kg| NACIONAL GÁS BUTANO|\n",
            "|             N|            PA|       BELEM|GP PETROLEO COMER...| 06.945.995/0002-20|AVENIDA GENERALIS...|       306|            null|         UMARIZAL|66055-240|    GLP|    01/12/2021|           118|           null|       R$ / 13 kg|SUPERGASBRAS ENERGIA|\n",
            "|             N|            PA|       BELEM|IRMAOS TEIXEIRA LTDA| 04.976.718/0003-30|AVENIDA PEDRO ALV...|      3800|            null|       SACRAMENTA|66120-620|    GLP|    01/12/2021|           113|           null|       R$ / 13 kg|             BAHIANA|\n",
            "+--------------+--------------+------------+--------------------+-------------------+--------------------+----------+----------------+-----------------+---------+-------+--------------+--------------+---------------+-----------------+--------------------+\n",
            "only showing top 20 rows\n",
            "\n"
          ]
        }
      ]
    },
    {
      "cell_type": "markdown",
      "source": [
        "## **Conhecendo a estrutura do SparkDataFrame**"
      ],
      "metadata": {
        "id": "apDmUfqIF-Jy"
      }
    },
    {
      "cell_type": "code",
      "source": [
        "# Importações necessárias\n",
        "from pyspark import *\n",
        "from pyspark.sql import *"
      ],
      "metadata": {
        "id": "bgh0ZHCTH6Kn"
      },
      "execution_count": 11,
      "outputs": []
    },
    {
      "cell_type": "code",
      "source": [
        "# Verificando o tipo de objeto criado\n",
        "type(df)"
      ],
      "metadata": {
        "colab": {
          "base_uri": "https://localhost:8080/"
        },
        "id": "ns_3ib5Jon-W",
        "outputId": "105bb8d1-6e76-4ca4-970c-2e08ea433572"
      },
      "execution_count": 12,
      "outputs": [
        {
          "output_type": "execute_result",
          "data": {
            "text/plain": [
              "pyspark.sql.dataframe.DataFrame"
            ]
          },
          "metadata": {},
          "execution_count": 12
        }
      ]
    },
    {
      "cell_type": "code",
      "source": [
        "# Verificando o schema() deste sparkdataframe\n",
        "df.printSchema()"
      ],
      "metadata": {
        "colab": {
          "base_uri": "https://localhost:8080/"
        },
        "id": "6P2qNG2noly3",
        "outputId": "848cc8b7-b4bf-41f2-b1b6-7f1f68754c18"
      },
      "execution_count": 13,
      "outputs": [
        {
          "output_type": "stream",
          "name": "stdout",
          "text": [
            "root\n",
            " |-- Regiao - Sigla: string (nullable = true)\n",
            " |-- Estado - Sigla: string (nullable = true)\n",
            " |-- Municipio: string (nullable = true)\n",
            " |-- Revenda: string (nullable = true)\n",
            " |-- CNPJ da Revenda: string (nullable = true)\n",
            " |-- Nome da Rua: string (nullable = true)\n",
            " |-- Numero Rua: string (nullable = true)\n",
            " |-- Complemento: string (nullable = true)\n",
            " |-- Bairro: string (nullable = true)\n",
            " |-- Cep: string (nullable = true)\n",
            " |-- Produto: string (nullable = true)\n",
            " |-- Data da Coleta: string (nullable = true)\n",
            " |-- Valor de Venda: string (nullable = true)\n",
            " |-- Valor de Compra: string (nullable = true)\n",
            " |-- Unidade de Medida: string (nullable = true)\n",
            " |-- Bandeira: string (nullable = true)\n",
            "\n"
          ]
        }
      ]
    },
    {
      "cell_type": "code",
      "source": [
        "# Contando o número de linhas do dataset\n",
        "df.count()"
      ],
      "metadata": {
        "colab": {
          "base_uri": "https://localhost:8080/"
        },
        "id": "qdB5ea3i7zKH",
        "outputId": "073b0447-3c50-4922-f625-0ce7fbdf324a"
      },
      "execution_count": 14,
      "outputs": [
        {
          "output_type": "execute_result",
          "data": {
            "text/plain": [
              "15765"
            ]
          },
          "metadata": {},
          "execution_count": 14
        }
      ]
    },
    {
      "cell_type": "code",
      "source": [
        "# Listando as colunas do dataset\n",
        "df.columns"
      ],
      "metadata": {
        "colab": {
          "base_uri": "https://localhost:8080/"
        },
        "id": "pFwIj4T9-qlC",
        "outputId": "ac71b6b4-2ed1-49db-ca16-1e461fe0e5e1"
      },
      "execution_count": 15,
      "outputs": [
        {
          "output_type": "execute_result",
          "data": {
            "text/plain": [
              "['Regiao - Sigla',\n",
              " 'Estado - Sigla',\n",
              " 'Municipio',\n",
              " 'Revenda',\n",
              " 'CNPJ da Revenda',\n",
              " 'Nome da Rua',\n",
              " 'Numero Rua',\n",
              " 'Complemento',\n",
              " 'Bairro',\n",
              " 'Cep',\n",
              " 'Produto',\n",
              " 'Data da Coleta',\n",
              " 'Valor de Venda',\n",
              " 'Valor de Compra',\n",
              " 'Unidade de Medida',\n",
              " 'Bandeira']"
            ]
          },
          "metadata": {},
          "execution_count": 15
        }
      ]
    },
    {
      "cell_type": "code",
      "source": [
        "# Contando o número de colunas do dataset\n",
        "len(df.columns)"
      ],
      "metadata": {
        "colab": {
          "base_uri": "https://localhost:8080/"
        },
        "id": "Fe5ct-vaB3hF",
        "outputId": "19acc2f1-3538-4e7a-83c6-f20d27dcfd8f"
      },
      "execution_count": 16,
      "outputs": [
        {
          "output_type": "execute_result",
          "data": {
            "text/plain": [
              "16"
            ]
          },
          "metadata": {},
          "execution_count": 16
        }
      ]
    },
    {
      "cell_type": "code",
      "source": [
        "# Método para verificar o tipo dos atributos do dataset\n",
        "df.dtypes"
      ],
      "metadata": {
        "colab": {
          "base_uri": "https://localhost:8080/"
        },
        "id": "XmrgP2sZX47r",
        "outputId": "5eea7257-e15e-42e6-e1da-e7d06084090e"
      },
      "execution_count": 17,
      "outputs": [
        {
          "output_type": "execute_result",
          "data": {
            "text/plain": [
              "[('Regiao - Sigla', 'string'),\n",
              " ('Estado - Sigla', 'string'),\n",
              " ('Municipio', 'string'),\n",
              " ('Revenda', 'string'),\n",
              " ('CNPJ da Revenda', 'string'),\n",
              " ('Nome da Rua', 'string'),\n",
              " ('Numero Rua', 'string'),\n",
              " ('Complemento', 'string'),\n",
              " ('Bairro', 'string'),\n",
              " ('Cep', 'string'),\n",
              " ('Produto', 'string'),\n",
              " ('Data da Coleta', 'string'),\n",
              " ('Valor de Venda', 'string'),\n",
              " ('Valor de Compra', 'string'),\n",
              " ('Unidade de Medida', 'string'),\n",
              " ('Bandeira', 'string')]"
            ]
          },
          "metadata": {},
          "execution_count": 17
        }
      ]
    },
    {
      "cell_type": "markdown",
      "source": [
        "## **Manipulação de colunas do SparkDataFrame**"
      ],
      "metadata": {
        "id": "8IE7ixAGXAhr"
      }
    },
    {
      "cell_type": "code",
      "source": [
        "# importando os métodos com funções para transformações de variáveis\n",
        "from pyspark.sql.functions import *"
      ],
      "metadata": {
        "id": "rnceSkpfKUJK"
      },
      "execution_count": 18,
      "outputs": []
    },
    {
      "cell_type": "code",
      "source": [
        "# Selecionando somente algumas colunas do dataset\n",
        "df.select('Revenda','Bandeira','Data da Coleta','Valor de Venda').show(20)"
      ],
      "metadata": {
        "colab": {
          "base_uri": "https://localhost:8080/"
        },
        "id": "5HDDTOGi_Jwq",
        "outputId": "362b9600-c7cb-4c2a-e874-3473a81e147e"
      },
      "execution_count": 19,
      "outputs": [
        {
          "output_type": "stream",
          "name": "stdout",
          "text": [
            "+--------------------+--------------------+--------------+--------------+\n",
            "|             Revenda|            Bandeira|Data da Coleta|Valor de Venda|\n",
            "+--------------------+--------------------+--------------+--------------+\n",
            "|CONSIGAZ DISTRIBU...|            CONSIGAZ|    01/12/2021|         97,99|\n",
            "|AUTO POSTO AMAPA ...|               FOGAS|    01/12/2021|           115|\n",
            "|AUTO POSTO ACAUAN...|           AMAZONGÁS|    01/12/2021|           110|\n",
            "|AUTO POSTO CANIND...|           AMAZONGÁS|    01/12/2021|           115|\n",
            "|AUTO POSTO AEROPO...|           AMAZONGÁS|    01/12/2021|           115|\n",
            "|SOUSA & ALVES COM...|SUPERGASBRAS ENERGIA|    01/12/2021|         99,99|\n",
            "|MARLIM COMBUSTIVE...|            LIQUIGÁS|    01/12/2021|         98,99|\n",
            "|AUTO SHOPPING DER...|            ULTRAGAZ|    01/12/2021|         98,99|\n",
            "|LR COMERCIO DE PR...|              BRANCA|    01/12/2021|         99,99|\n",
            "|CASCOL COMBUSTIVE...|            ULTRAGAZ|    01/12/2021|         99,99|\n",
            "|CASCOL COMBUSTIVE...|            LIQUIGÁS|    01/12/2021|         99,99|\n",
            "|CASCOL COMBUSTIVE...|            ULTRAGAZ|    01/12/2021|         97,99|\n",
            "|POSTO DOS PODERES...|SUPERGASBRAS ENERGIA|    01/12/2021|           100|\n",
            "|RIBEIRO DE MENDON...|             COPAGAZ|    01/12/2021|           116|\n",
            "|AUTO POSTO MALIBU...|            LIQUIGÁS|    01/12/2021|         95,99|\n",
            "| POSTO ROUXINOL LTDA|             COPAGAZ|    01/12/2021|            98|\n",
            "|GABIATTI & GABIAT...|            LIQUIGÁS|    01/12/2021|            95|\n",
            "|AUTO POSTO GK EIRELI| NACIONAL GÁS BUTANO|    01/12/2021|           112|\n",
            "|GP PETROLEO COMER...|SUPERGASBRAS ENERGIA|    01/12/2021|           118|\n",
            "|IRMAOS TEIXEIRA LTDA|             BAHIANA|    01/12/2021|           113|\n",
            "+--------------------+--------------------+--------------+--------------+\n",
            "only showing top 20 rows\n",
            "\n"
          ]
        }
      ]
    },
    {
      "cell_type": "code",
      "source": [
        "# Outra forma de Selecionar somente algumas colunas do dataset\n",
        "df.select('Revenda','Bandeira',col('Data da Coleta').alias('Data_Coleta'), col('Valor de Venda').alias('Valor_Venda')).show(20)"
      ],
      "metadata": {
        "colab": {
          "base_uri": "https://localhost:8080/"
        },
        "id": "7zPQp2JXIwA5",
        "outputId": "9679b08c-4bfd-4ff5-cdb2-4ebf3977007d"
      },
      "execution_count": 20,
      "outputs": [
        {
          "output_type": "stream",
          "name": "stdout",
          "text": [
            "+--------------------+--------------------+-----------+-----------+\n",
            "|             Revenda|            Bandeira|Data_Coleta|Valor_Venda|\n",
            "+--------------------+--------------------+-----------+-----------+\n",
            "|CONSIGAZ DISTRIBU...|            CONSIGAZ| 01/12/2021|      97,99|\n",
            "|AUTO POSTO AMAPA ...|               FOGAS| 01/12/2021|        115|\n",
            "|AUTO POSTO ACAUAN...|           AMAZONGÁS| 01/12/2021|        110|\n",
            "|AUTO POSTO CANIND...|           AMAZONGÁS| 01/12/2021|        115|\n",
            "|AUTO POSTO AEROPO...|           AMAZONGÁS| 01/12/2021|        115|\n",
            "|SOUSA & ALVES COM...|SUPERGASBRAS ENERGIA| 01/12/2021|      99,99|\n",
            "|MARLIM COMBUSTIVE...|            LIQUIGÁS| 01/12/2021|      98,99|\n",
            "|AUTO SHOPPING DER...|            ULTRAGAZ| 01/12/2021|      98,99|\n",
            "|LR COMERCIO DE PR...|              BRANCA| 01/12/2021|      99,99|\n",
            "|CASCOL COMBUSTIVE...|            ULTRAGAZ| 01/12/2021|      99,99|\n",
            "|CASCOL COMBUSTIVE...|            LIQUIGÁS| 01/12/2021|      99,99|\n",
            "|CASCOL COMBUSTIVE...|            ULTRAGAZ| 01/12/2021|      97,99|\n",
            "|POSTO DOS PODERES...|SUPERGASBRAS ENERGIA| 01/12/2021|        100|\n",
            "|RIBEIRO DE MENDON...|             COPAGAZ| 01/12/2021|        116|\n",
            "|AUTO POSTO MALIBU...|            LIQUIGÁS| 01/12/2021|      95,99|\n",
            "| POSTO ROUXINOL LTDA|             COPAGAZ| 01/12/2021|         98|\n",
            "|GABIATTI & GABIAT...|            LIQUIGÁS| 01/12/2021|         95|\n",
            "|AUTO POSTO GK EIRELI| NACIONAL GÁS BUTANO| 01/12/2021|        112|\n",
            "|GP PETROLEO COMER...|SUPERGASBRAS ENERGIA| 01/12/2021|        118|\n",
            "|IRMAOS TEIXEIRA LTDA|             BAHIANA| 01/12/2021|        113|\n",
            "+--------------------+--------------------+-----------+-----------+\n",
            "only showing top 20 rows\n",
            "\n"
          ]
        }
      ]
    },
    {
      "cell_type": "code",
      "source": [
        "# Outra forma de declarar uma coluna de um dataset\n",
        "df.select(df.Revenda.alias('Revendedora'),df.Bandeira).show()"
      ],
      "metadata": {
        "colab": {
          "base_uri": "https://localhost:8080/"
        },
        "id": "R141oRC1Db-z",
        "outputId": "00f19168-19e7-47e4-d1a0-81902c89418a"
      },
      "execution_count": 21,
      "outputs": [
        {
          "output_type": "stream",
          "name": "stdout",
          "text": [
            "+--------------------+--------------------+\n",
            "|         Revendedora|            Bandeira|\n",
            "+--------------------+--------------------+\n",
            "|CONSIGAZ DISTRIBU...|            CONSIGAZ|\n",
            "|AUTO POSTO AMAPA ...|               FOGAS|\n",
            "|AUTO POSTO ACAUAN...|           AMAZONGÁS|\n",
            "|AUTO POSTO CANIND...|           AMAZONGÁS|\n",
            "|AUTO POSTO AEROPO...|           AMAZONGÁS|\n",
            "|SOUSA & ALVES COM...|SUPERGASBRAS ENERGIA|\n",
            "|MARLIM COMBUSTIVE...|            LIQUIGÁS|\n",
            "|AUTO SHOPPING DER...|            ULTRAGAZ|\n",
            "|LR COMERCIO DE PR...|              BRANCA|\n",
            "|CASCOL COMBUSTIVE...|            ULTRAGAZ|\n",
            "|CASCOL COMBUSTIVE...|            LIQUIGÁS|\n",
            "|CASCOL COMBUSTIVE...|            ULTRAGAZ|\n",
            "|POSTO DOS PODERES...|SUPERGASBRAS ENERGIA|\n",
            "|RIBEIRO DE MENDON...|             COPAGAZ|\n",
            "|AUTO POSTO MALIBU...|            LIQUIGÁS|\n",
            "| POSTO ROUXINOL LTDA|             COPAGAZ|\n",
            "|GABIATTI & GABIAT...|            LIQUIGÁS|\n",
            "|AUTO POSTO GK EIRELI| NACIONAL GÁS BUTANO|\n",
            "|GP PETROLEO COMER...|SUPERGASBRAS ENERGIA|\n",
            "|IRMAOS TEIXEIRA LTDA|             BAHIANA|\n",
            "+--------------------+--------------------+\n",
            "only showing top 20 rows\n",
            "\n"
          ]
        }
      ]
    },
    {
      "cell_type": "code",
      "source": [
        "# Criando uma nova coluna deixando o atributo Bandeira em minúsculo\n",
        "df.withColumn(colName = \"teste\", col = lower('Bandeira')).show()"
      ],
      "metadata": {
        "colab": {
          "base_uri": "https://localhost:8080/"
        },
        "id": "CbR76MkQM_Df",
        "outputId": "b4872e80-c305-4531-e0df-556841598b42"
      },
      "execution_count": 22,
      "outputs": [
        {
          "output_type": "stream",
          "name": "stdout",
          "text": [
            "+--------------+--------------+------------+--------------------+-------------------+--------------------+----------+----------------+-----------------+---------+-------+--------------+--------------+---------------+-----------------+--------------------+--------------------+\n",
            "|Regiao - Sigla|Estado - Sigla|   Municipio|             Revenda|    CNPJ da Revenda|         Nome da Rua|Numero Rua|     Complemento|           Bairro|      Cep|Produto|Data da Coleta|Valor de Venda|Valor de Compra|Unidade de Medida|            Bandeira|               teste|\n",
            "+--------------+--------------+------------+--------------------+-------------------+--------------------+----------+----------------+-----------------+---------+-------+--------------+--------------+---------------+-----------------+--------------------+--------------------+\n",
            "|            SE|            SP| SAO VICENTE|CONSIGAZ DISTRIBU...| 01.597.589/0003-81| RUA MANOEL DE ABREU|       790|      QUADRA 108|   CIDADE NAUTICA|11355-400|    GLP|    01/12/2021|         97,99|           null|       R$ / 13 kg|            CONSIGAZ|            consigaz|\n",
            "|             N|            AC|  RIO BRANCO|AUTO POSTO AMAPA ...| 00.529.581/0001-53|    VIA CHICO MENDES|      3570|            null|            AREAL|69906-119|    GLP|    01/12/2021|           115|           null|       R$ / 13 kg|               FOGAS|               fogas|\n",
            "|             N|            AC|  RIO BRANCO|AUTO POSTO ACAUAN...| 00.524.999/0001-78|       RODOVIA AC 40|      1800|            null|        VILA ACRE|69902-450|    GLP|    01/12/2021|           110|           null|       R$ / 13 kg|           AMAZONGÁS|           amazongás|\n",
            "|             N|            AC|  RIO BRANCO|AUTO POSTO CANIND...| 05.442.544/0001-27|       RODOVIA AC 40|      3206|           KM 07|        VILA ACRE|69902-450|    GLP|    01/12/2021|           115|           null|       R$ / 13 kg|           AMAZONGÁS|           amazongás|\n",
            "|             N|            AC|  RIO BRANCO|AUTO POSTO AEROPO...| 14.294.227/0001-00|      V CHICO MENDES|      2583|            null|           COMARA|69906-326|    GLP|    01/12/2021|           115|           null|       R$ / 13 kg|           AMAZONGÁS|           amazongás|\n",
            "|            CO|            DF|    BRASILIA|SOUSA & ALVES COM...| 07.111.605/0001-07| QNM 15 LOTE G AR...|       S/N|            null|        CEILANDIA|72215-150|    GLP|    01/12/2021|         99,99|           null|       R$ / 13 kg|SUPERGASBRAS ENERGIA|supergasbras energia|\n",
            "|            CO|            DF|    BRASILIA|MARLIM COMBUSTIVE...| 04.494.011/0001-26|          QNO 06 PLL|       S/N|            null|        CEILÂNDIA|72237-100|    GLP|    01/12/2021|         98,99|           null|       R$ / 13 kg|            LIQUIGÁS|            liquigás|\n",
            "|            CO|            DF|    BRASILIA|AUTO SHOPPING DER...| 37.063.328/0009-14| QI 19 LOTES 02 E 04|       S/N|SETOR INDUSTRIAL|       TAGUATINGA|72120-190|    GLP|    01/12/2021|         98,99|           null|       R$ / 13 kg|            ULTRAGAZ|            ultragaz|\n",
            "|            CO|            DF|    BRASILIA|LR COMERCIO DE PR...| 24.912.669/0001-18|              QNO 15|       S/N|        LOTE PLL|        CEILANDIA|72255-600|    GLP|    01/12/2021|         99,99|           null|       R$ / 13 kg|              BRANCA|              branca|\n",
            "|            CO|            DF|    BRASILIA|CASCOL COMBUSTIVE...| 00.306.597/0015-00|QUADRA QR 516 CON...|         1|            null|    SAMAMBAIA SUL|70772-500|    GLP|    01/12/2021|         99,99|           null|       R$ / 13 kg|            ULTRAGAZ|            ultragaz|\n",
            "|            CO|            DF|    BRASILIA|CASCOL COMBUSTIVE...| 00.306.597/0017-64|   QUADRA QNO 05 PLL|       S/N|            null|        CEILANDIA|72251-000|    GLP|    01/12/2021|         99,99|           null|       R$ / 13 kg|            LIQUIGÁS|            liquigás|\n",
            "|            CO|            DF|    BRASILIA|CASCOL COMBUSTIVE...| 00.306.597/0008-73|   SETOR CSD 06 LOTE|        36|     SETOR D SUL|       TAGUATINGA|72020-000|    GLP|    01/12/2021|         97,99|           null|       R$ / 13 kg|            ULTRAGAZ|            ultragaz|\n",
            "|            CO|            MS|CAMPO GRANDE|POSTO DOS PODERES...| 24.624.785/0001-31|    AVENIDA DO POETA|       990|            null| DO DESBARRANCADO|79031-350|    GLP|    01/12/2021|           100|           null|       R$ / 13 kg|SUPERGASBRAS ENERGIA|supergasbras energia|\n",
            "|            CO|            MS|CAMPO GRANDE|RIBEIRO DE MENDON...| 16.045.015/0001-06| AVENIDA AFONSO PENA|      5264|            null|CHACARA CACHOEIRA|79040-010|    GLP|    01/12/2021|           116|           null|       R$ / 13 kg|             COPAGAZ|             copagaz|\n",
            "|            CO|            MS|CAMPO GRANDE|AUTO POSTO MALIBU...| 02.110.486/0001-46|RUA JOSE NOGUEIRA...|      1310|            null|       TIRADENTES|79042-010|    GLP|    01/12/2021|         95,99|           null|       R$ / 13 kg|            LIQUIGÁS|            liquigás|\n",
            "|            CO|            MS|CAMPO GRANDE| POSTO ROUXINOL LTDA| 00.413.865/0001-80|    AVENIDA ROUXINOL|        35|            null|       TIRADENTES|79041-150|    GLP|    01/12/2021|            98|           null|       R$ / 13 kg|             COPAGAZ|             copagaz|\n",
            "|            CO|            MS|    DOURADOS|GABIATTI & GABIAT...| 04.075.654/0001-35|RUA CORONEL PONCIANO|      2230|            null|  VILA INDUSTRIAL|79840-230|    GLP|    01/12/2021|            95|           null|       R$ / 13 kg|            LIQUIGÁS|            liquigás|\n",
            "|             N|            PA|       BELEM|AUTO POSTO GK EIRELI| 07.909.407/0001-85|AVENIDA DUQUE DE ...|      1169|            null|            MARCO|66093-400|    GLP|    01/12/2021|           112|           null|       R$ / 13 kg| NACIONAL GÁS BUTANO| nacional gás butano|\n",
            "|             N|            PA|       BELEM|GP PETROLEO COMER...| 06.945.995/0002-20|AVENIDA GENERALIS...|       306|            null|         UMARIZAL|66055-240|    GLP|    01/12/2021|           118|           null|       R$ / 13 kg|SUPERGASBRAS ENERGIA|supergasbras energia|\n",
            "|             N|            PA|       BELEM|IRMAOS TEIXEIRA LTDA| 04.976.718/0003-30|AVENIDA PEDRO ALV...|      3800|            null|       SACRAMENTA|66120-620|    GLP|    01/12/2021|           113|           null|       R$ / 13 kg|             BAHIANA|             bahiana|\n",
            "+--------------+--------------+------------+--------------------+-------------------+--------------------+----------+----------------+-----------------+---------+-------+--------------+--------------+---------------+-----------------+--------------------+--------------------+\n",
            "only showing top 20 rows\n",
            "\n"
          ]
        }
      ]
    },
    {
      "cell_type": "code",
      "source": [
        "# Criando uma nova coluna somente replicando o atributo bandeira\n",
        "df.withColumn(\"teste\", df.Bandeira).show()"
      ],
      "metadata": {
        "colab": {
          "base_uri": "https://localhost:8080/"
        },
        "id": "PUVTIfznKxZD",
        "outputId": "a1723d60-c0e6-4170-ed29-f054be2e18d2"
      },
      "execution_count": 23,
      "outputs": [
        {
          "output_type": "stream",
          "name": "stdout",
          "text": [
            "+--------------+--------------+------------+--------------------+-------------------+--------------------+----------+----------------+-----------------+---------+-------+--------------+--------------+---------------+-----------------+--------------------+--------------------+\n",
            "|Regiao - Sigla|Estado - Sigla|   Municipio|             Revenda|    CNPJ da Revenda|         Nome da Rua|Numero Rua|     Complemento|           Bairro|      Cep|Produto|Data da Coleta|Valor de Venda|Valor de Compra|Unidade de Medida|            Bandeira|               teste|\n",
            "+--------------+--------------+------------+--------------------+-------------------+--------------------+----------+----------------+-----------------+---------+-------+--------------+--------------+---------------+-----------------+--------------------+--------------------+\n",
            "|            SE|            SP| SAO VICENTE|CONSIGAZ DISTRIBU...| 01.597.589/0003-81| RUA MANOEL DE ABREU|       790|      QUADRA 108|   CIDADE NAUTICA|11355-400|    GLP|    01/12/2021|         97,99|           null|       R$ / 13 kg|            CONSIGAZ|            CONSIGAZ|\n",
            "|             N|            AC|  RIO BRANCO|AUTO POSTO AMAPA ...| 00.529.581/0001-53|    VIA CHICO MENDES|      3570|            null|            AREAL|69906-119|    GLP|    01/12/2021|           115|           null|       R$ / 13 kg|               FOGAS|               FOGAS|\n",
            "|             N|            AC|  RIO BRANCO|AUTO POSTO ACAUAN...| 00.524.999/0001-78|       RODOVIA AC 40|      1800|            null|        VILA ACRE|69902-450|    GLP|    01/12/2021|           110|           null|       R$ / 13 kg|           AMAZONGÁS|           AMAZONGÁS|\n",
            "|             N|            AC|  RIO BRANCO|AUTO POSTO CANIND...| 05.442.544/0001-27|       RODOVIA AC 40|      3206|           KM 07|        VILA ACRE|69902-450|    GLP|    01/12/2021|           115|           null|       R$ / 13 kg|           AMAZONGÁS|           AMAZONGÁS|\n",
            "|             N|            AC|  RIO BRANCO|AUTO POSTO AEROPO...| 14.294.227/0001-00|      V CHICO MENDES|      2583|            null|           COMARA|69906-326|    GLP|    01/12/2021|           115|           null|       R$ / 13 kg|           AMAZONGÁS|           AMAZONGÁS|\n",
            "|            CO|            DF|    BRASILIA|SOUSA & ALVES COM...| 07.111.605/0001-07| QNM 15 LOTE G AR...|       S/N|            null|        CEILANDIA|72215-150|    GLP|    01/12/2021|         99,99|           null|       R$ / 13 kg|SUPERGASBRAS ENERGIA|SUPERGASBRAS ENERGIA|\n",
            "|            CO|            DF|    BRASILIA|MARLIM COMBUSTIVE...| 04.494.011/0001-26|          QNO 06 PLL|       S/N|            null|        CEILÂNDIA|72237-100|    GLP|    01/12/2021|         98,99|           null|       R$ / 13 kg|            LIQUIGÁS|            LIQUIGÁS|\n",
            "|            CO|            DF|    BRASILIA|AUTO SHOPPING DER...| 37.063.328/0009-14| QI 19 LOTES 02 E 04|       S/N|SETOR INDUSTRIAL|       TAGUATINGA|72120-190|    GLP|    01/12/2021|         98,99|           null|       R$ / 13 kg|            ULTRAGAZ|            ULTRAGAZ|\n",
            "|            CO|            DF|    BRASILIA|LR COMERCIO DE PR...| 24.912.669/0001-18|              QNO 15|       S/N|        LOTE PLL|        CEILANDIA|72255-600|    GLP|    01/12/2021|         99,99|           null|       R$ / 13 kg|              BRANCA|              BRANCA|\n",
            "|            CO|            DF|    BRASILIA|CASCOL COMBUSTIVE...| 00.306.597/0015-00|QUADRA QR 516 CON...|         1|            null|    SAMAMBAIA SUL|70772-500|    GLP|    01/12/2021|         99,99|           null|       R$ / 13 kg|            ULTRAGAZ|            ULTRAGAZ|\n",
            "|            CO|            DF|    BRASILIA|CASCOL COMBUSTIVE...| 00.306.597/0017-64|   QUADRA QNO 05 PLL|       S/N|            null|        CEILANDIA|72251-000|    GLP|    01/12/2021|         99,99|           null|       R$ / 13 kg|            LIQUIGÁS|            LIQUIGÁS|\n",
            "|            CO|            DF|    BRASILIA|CASCOL COMBUSTIVE...| 00.306.597/0008-73|   SETOR CSD 06 LOTE|        36|     SETOR D SUL|       TAGUATINGA|72020-000|    GLP|    01/12/2021|         97,99|           null|       R$ / 13 kg|            ULTRAGAZ|            ULTRAGAZ|\n",
            "|            CO|            MS|CAMPO GRANDE|POSTO DOS PODERES...| 24.624.785/0001-31|    AVENIDA DO POETA|       990|            null| DO DESBARRANCADO|79031-350|    GLP|    01/12/2021|           100|           null|       R$ / 13 kg|SUPERGASBRAS ENERGIA|SUPERGASBRAS ENERGIA|\n",
            "|            CO|            MS|CAMPO GRANDE|RIBEIRO DE MENDON...| 16.045.015/0001-06| AVENIDA AFONSO PENA|      5264|            null|CHACARA CACHOEIRA|79040-010|    GLP|    01/12/2021|           116|           null|       R$ / 13 kg|             COPAGAZ|             COPAGAZ|\n",
            "|            CO|            MS|CAMPO GRANDE|AUTO POSTO MALIBU...| 02.110.486/0001-46|RUA JOSE NOGUEIRA...|      1310|            null|       TIRADENTES|79042-010|    GLP|    01/12/2021|         95,99|           null|       R$ / 13 kg|            LIQUIGÁS|            LIQUIGÁS|\n",
            "|            CO|            MS|CAMPO GRANDE| POSTO ROUXINOL LTDA| 00.413.865/0001-80|    AVENIDA ROUXINOL|        35|            null|       TIRADENTES|79041-150|    GLP|    01/12/2021|            98|           null|       R$ / 13 kg|             COPAGAZ|             COPAGAZ|\n",
            "|            CO|            MS|    DOURADOS|GABIATTI & GABIAT...| 04.075.654/0001-35|RUA CORONEL PONCIANO|      2230|            null|  VILA INDUSTRIAL|79840-230|    GLP|    01/12/2021|            95|           null|       R$ / 13 kg|            LIQUIGÁS|            LIQUIGÁS|\n",
            "|             N|            PA|       BELEM|AUTO POSTO GK EIRELI| 07.909.407/0001-85|AVENIDA DUQUE DE ...|      1169|            null|            MARCO|66093-400|    GLP|    01/12/2021|           112|           null|       R$ / 13 kg| NACIONAL GÁS BUTANO| NACIONAL GÁS BUTANO|\n",
            "|             N|            PA|       BELEM|GP PETROLEO COMER...| 06.945.995/0002-20|AVENIDA GENERALIS...|       306|            null|         UMARIZAL|66055-240|    GLP|    01/12/2021|           118|           null|       R$ / 13 kg|SUPERGASBRAS ENERGIA|SUPERGASBRAS ENERGIA|\n",
            "|             N|            PA|       BELEM|IRMAOS TEIXEIRA LTDA| 04.976.718/0003-30|AVENIDA PEDRO ALV...|      3800|            null|       SACRAMENTA|66120-620|    GLP|    01/12/2021|           113|           null|       R$ / 13 kg|             BAHIANA|             BAHIANA|\n",
            "+--------------+--------------+------------+--------------------+-------------------+--------------------+----------+----------------+-----------------+---------+-------+--------------+--------------+---------------+-----------------+--------------------+--------------------+\n",
            "only showing top 20 rows\n",
            "\n"
          ]
        }
      ]
    },
    {
      "cell_type": "code",
      "source": [
        "# substituindo caracteres especifico de uma variavel e persistindo o resultado na mesma coluna\n",
        "df.withColumn(\n",
        "    colName = 'Data da Coleta', \n",
        "    col = regexp_replace('Data da Coleta','/','-')\n",
        "    ).show()"
      ],
      "metadata": {
        "colab": {
          "base_uri": "https://localhost:8080/"
        },
        "id": "x5KSiy9CVhNr",
        "outputId": "861d2c89-932c-4703-a1a3-fc71a22e933e"
      },
      "execution_count": 24,
      "outputs": [
        {
          "output_type": "stream",
          "name": "stdout",
          "text": [
            "+--------------+--------------+------------+--------------------+-------------------+--------------------+----------+----------------+-----------------+---------+-------+--------------+--------------+---------------+-----------------+--------------------+\n",
            "|Regiao - Sigla|Estado - Sigla|   Municipio|             Revenda|    CNPJ da Revenda|         Nome da Rua|Numero Rua|     Complemento|           Bairro|      Cep|Produto|Data da Coleta|Valor de Venda|Valor de Compra|Unidade de Medida|            Bandeira|\n",
            "+--------------+--------------+------------+--------------------+-------------------+--------------------+----------+----------------+-----------------+---------+-------+--------------+--------------+---------------+-----------------+--------------------+\n",
            "|            SE|            SP| SAO VICENTE|CONSIGAZ DISTRIBU...| 01.597.589/0003-81| RUA MANOEL DE ABREU|       790|      QUADRA 108|   CIDADE NAUTICA|11355-400|    GLP|    01-12-2021|         97,99|           null|       R$ / 13 kg|            CONSIGAZ|\n",
            "|             N|            AC|  RIO BRANCO|AUTO POSTO AMAPA ...| 00.529.581/0001-53|    VIA CHICO MENDES|      3570|            null|            AREAL|69906-119|    GLP|    01-12-2021|           115|           null|       R$ / 13 kg|               FOGAS|\n",
            "|             N|            AC|  RIO BRANCO|AUTO POSTO ACAUAN...| 00.524.999/0001-78|       RODOVIA AC 40|      1800|            null|        VILA ACRE|69902-450|    GLP|    01-12-2021|           110|           null|       R$ / 13 kg|           AMAZONGÁS|\n",
            "|             N|            AC|  RIO BRANCO|AUTO POSTO CANIND...| 05.442.544/0001-27|       RODOVIA AC 40|      3206|           KM 07|        VILA ACRE|69902-450|    GLP|    01-12-2021|           115|           null|       R$ / 13 kg|           AMAZONGÁS|\n",
            "|             N|            AC|  RIO BRANCO|AUTO POSTO AEROPO...| 14.294.227/0001-00|      V CHICO MENDES|      2583|            null|           COMARA|69906-326|    GLP|    01-12-2021|           115|           null|       R$ / 13 kg|           AMAZONGÁS|\n",
            "|            CO|            DF|    BRASILIA|SOUSA & ALVES COM...| 07.111.605/0001-07| QNM 15 LOTE G AR...|       S/N|            null|        CEILANDIA|72215-150|    GLP|    01-12-2021|         99,99|           null|       R$ / 13 kg|SUPERGASBRAS ENERGIA|\n",
            "|            CO|            DF|    BRASILIA|MARLIM COMBUSTIVE...| 04.494.011/0001-26|          QNO 06 PLL|       S/N|            null|        CEILÂNDIA|72237-100|    GLP|    01-12-2021|         98,99|           null|       R$ / 13 kg|            LIQUIGÁS|\n",
            "|            CO|            DF|    BRASILIA|AUTO SHOPPING DER...| 37.063.328/0009-14| QI 19 LOTES 02 E 04|       S/N|SETOR INDUSTRIAL|       TAGUATINGA|72120-190|    GLP|    01-12-2021|         98,99|           null|       R$ / 13 kg|            ULTRAGAZ|\n",
            "|            CO|            DF|    BRASILIA|LR COMERCIO DE PR...| 24.912.669/0001-18|              QNO 15|       S/N|        LOTE PLL|        CEILANDIA|72255-600|    GLP|    01-12-2021|         99,99|           null|       R$ / 13 kg|              BRANCA|\n",
            "|            CO|            DF|    BRASILIA|CASCOL COMBUSTIVE...| 00.306.597/0015-00|QUADRA QR 516 CON...|         1|            null|    SAMAMBAIA SUL|70772-500|    GLP|    01-12-2021|         99,99|           null|       R$ / 13 kg|            ULTRAGAZ|\n",
            "|            CO|            DF|    BRASILIA|CASCOL COMBUSTIVE...| 00.306.597/0017-64|   QUADRA QNO 05 PLL|       S/N|            null|        CEILANDIA|72251-000|    GLP|    01-12-2021|         99,99|           null|       R$ / 13 kg|            LIQUIGÁS|\n",
            "|            CO|            DF|    BRASILIA|CASCOL COMBUSTIVE...| 00.306.597/0008-73|   SETOR CSD 06 LOTE|        36|     SETOR D SUL|       TAGUATINGA|72020-000|    GLP|    01-12-2021|         97,99|           null|       R$ / 13 kg|            ULTRAGAZ|\n",
            "|            CO|            MS|CAMPO GRANDE|POSTO DOS PODERES...| 24.624.785/0001-31|    AVENIDA DO POETA|       990|            null| DO DESBARRANCADO|79031-350|    GLP|    01-12-2021|           100|           null|       R$ / 13 kg|SUPERGASBRAS ENERGIA|\n",
            "|            CO|            MS|CAMPO GRANDE|RIBEIRO DE MENDON...| 16.045.015/0001-06| AVENIDA AFONSO PENA|      5264|            null|CHACARA CACHOEIRA|79040-010|    GLP|    01-12-2021|           116|           null|       R$ / 13 kg|             COPAGAZ|\n",
            "|            CO|            MS|CAMPO GRANDE|AUTO POSTO MALIBU...| 02.110.486/0001-46|RUA JOSE NOGUEIRA...|      1310|            null|       TIRADENTES|79042-010|    GLP|    01-12-2021|         95,99|           null|       R$ / 13 kg|            LIQUIGÁS|\n",
            "|            CO|            MS|CAMPO GRANDE| POSTO ROUXINOL LTDA| 00.413.865/0001-80|    AVENIDA ROUXINOL|        35|            null|       TIRADENTES|79041-150|    GLP|    01-12-2021|            98|           null|       R$ / 13 kg|             COPAGAZ|\n",
            "|            CO|            MS|    DOURADOS|GABIATTI & GABIAT...| 04.075.654/0001-35|RUA CORONEL PONCIANO|      2230|            null|  VILA INDUSTRIAL|79840-230|    GLP|    01-12-2021|            95|           null|       R$ / 13 kg|            LIQUIGÁS|\n",
            "|             N|            PA|       BELEM|AUTO POSTO GK EIRELI| 07.909.407/0001-85|AVENIDA DUQUE DE ...|      1169|            null|            MARCO|66093-400|    GLP|    01-12-2021|           112|           null|       R$ / 13 kg| NACIONAL GÁS BUTANO|\n",
            "|             N|            PA|       BELEM|GP PETROLEO COMER...| 06.945.995/0002-20|AVENIDA GENERALIS...|       306|            null|         UMARIZAL|66055-240|    GLP|    01-12-2021|           118|           null|       R$ / 13 kg|SUPERGASBRAS ENERGIA|\n",
            "|             N|            PA|       BELEM|IRMAOS TEIXEIRA LTDA| 04.976.718/0003-30|AVENIDA PEDRO ALV...|      3800|            null|       SACRAMENTA|66120-620|    GLP|    01-12-2021|           113|           null|       R$ / 13 kg|             BAHIANA|\n",
            "+--------------+--------------+------------+--------------------+-------------------+--------------------+----------+----------------+-----------------+---------+-------+--------------+--------------+---------------+-----------------+--------------------+\n",
            "only showing top 20 rows\n",
            "\n"
          ]
        }
      ]
    },
    {
      "cell_type": "code",
      "source": [
        "# substituindo valores de uma variavel com o metodo replace\n",
        "df.replace( \n",
        "  to_replace = 'GLP',\n",
        "  value = 'GAS DE COZINHA', \n",
        "  subset = 'produto').show()"
      ],
      "metadata": {
        "colab": {
          "base_uri": "https://localhost:8080/"
        },
        "id": "82jfxLHYNm1l",
        "outputId": "58507fde-aef8-403a-cb7c-6dca53573d7b"
      },
      "execution_count": 25,
      "outputs": [
        {
          "output_type": "stream",
          "name": "stdout",
          "text": [
            "+--------------+--------------+------------+--------------------+-------------------+--------------------+----------+----------------+-----------------+---------+--------------+--------------+--------------+---------------+-----------------+--------------------+\n",
            "|Regiao - Sigla|Estado - Sigla|   Municipio|             Revenda|    CNPJ da Revenda|         Nome da Rua|Numero Rua|     Complemento|           Bairro|      Cep|       Produto|Data da Coleta|Valor de Venda|Valor de Compra|Unidade de Medida|            Bandeira|\n",
            "+--------------+--------------+------------+--------------------+-------------------+--------------------+----------+----------------+-----------------+---------+--------------+--------------+--------------+---------------+-----------------+--------------------+\n",
            "|            SE|            SP| SAO VICENTE|CONSIGAZ DISTRIBU...| 01.597.589/0003-81| RUA MANOEL DE ABREU|       790|      QUADRA 108|   CIDADE NAUTICA|11355-400|GAS DE COZINHA|    01/12/2021|         97,99|           null|       R$ / 13 kg|            CONSIGAZ|\n",
            "|             N|            AC|  RIO BRANCO|AUTO POSTO AMAPA ...| 00.529.581/0001-53|    VIA CHICO MENDES|      3570|            null|            AREAL|69906-119|GAS DE COZINHA|    01/12/2021|           115|           null|       R$ / 13 kg|               FOGAS|\n",
            "|             N|            AC|  RIO BRANCO|AUTO POSTO ACAUAN...| 00.524.999/0001-78|       RODOVIA AC 40|      1800|            null|        VILA ACRE|69902-450|GAS DE COZINHA|    01/12/2021|           110|           null|       R$ / 13 kg|           AMAZONGÁS|\n",
            "|             N|            AC|  RIO BRANCO|AUTO POSTO CANIND...| 05.442.544/0001-27|       RODOVIA AC 40|      3206|           KM 07|        VILA ACRE|69902-450|GAS DE COZINHA|    01/12/2021|           115|           null|       R$ / 13 kg|           AMAZONGÁS|\n",
            "|             N|            AC|  RIO BRANCO|AUTO POSTO AEROPO...| 14.294.227/0001-00|      V CHICO MENDES|      2583|            null|           COMARA|69906-326|GAS DE COZINHA|    01/12/2021|           115|           null|       R$ / 13 kg|           AMAZONGÁS|\n",
            "|            CO|            DF|    BRASILIA|SOUSA & ALVES COM...| 07.111.605/0001-07| QNM 15 LOTE G AR...|       S/N|            null|        CEILANDIA|72215-150|GAS DE COZINHA|    01/12/2021|         99,99|           null|       R$ / 13 kg|SUPERGASBRAS ENERGIA|\n",
            "|            CO|            DF|    BRASILIA|MARLIM COMBUSTIVE...| 04.494.011/0001-26|          QNO 06 PLL|       S/N|            null|        CEILÂNDIA|72237-100|GAS DE COZINHA|    01/12/2021|         98,99|           null|       R$ / 13 kg|            LIQUIGÁS|\n",
            "|            CO|            DF|    BRASILIA|AUTO SHOPPING DER...| 37.063.328/0009-14| QI 19 LOTES 02 E 04|       S/N|SETOR INDUSTRIAL|       TAGUATINGA|72120-190|GAS DE COZINHA|    01/12/2021|         98,99|           null|       R$ / 13 kg|            ULTRAGAZ|\n",
            "|            CO|            DF|    BRASILIA|LR COMERCIO DE PR...| 24.912.669/0001-18|              QNO 15|       S/N|        LOTE PLL|        CEILANDIA|72255-600|GAS DE COZINHA|    01/12/2021|         99,99|           null|       R$ / 13 kg|              BRANCA|\n",
            "|            CO|            DF|    BRASILIA|CASCOL COMBUSTIVE...| 00.306.597/0015-00|QUADRA QR 516 CON...|         1|            null|    SAMAMBAIA SUL|70772-500|GAS DE COZINHA|    01/12/2021|         99,99|           null|       R$ / 13 kg|            ULTRAGAZ|\n",
            "|            CO|            DF|    BRASILIA|CASCOL COMBUSTIVE...| 00.306.597/0017-64|   QUADRA QNO 05 PLL|       S/N|            null|        CEILANDIA|72251-000|GAS DE COZINHA|    01/12/2021|         99,99|           null|       R$ / 13 kg|            LIQUIGÁS|\n",
            "|            CO|            DF|    BRASILIA|CASCOL COMBUSTIVE...| 00.306.597/0008-73|   SETOR CSD 06 LOTE|        36|     SETOR D SUL|       TAGUATINGA|72020-000|GAS DE COZINHA|    01/12/2021|         97,99|           null|       R$ / 13 kg|            ULTRAGAZ|\n",
            "|            CO|            MS|CAMPO GRANDE|POSTO DOS PODERES...| 24.624.785/0001-31|    AVENIDA DO POETA|       990|            null| DO DESBARRANCADO|79031-350|GAS DE COZINHA|    01/12/2021|           100|           null|       R$ / 13 kg|SUPERGASBRAS ENERGIA|\n",
            "|            CO|            MS|CAMPO GRANDE|RIBEIRO DE MENDON...| 16.045.015/0001-06| AVENIDA AFONSO PENA|      5264|            null|CHACARA CACHOEIRA|79040-010|GAS DE COZINHA|    01/12/2021|           116|           null|       R$ / 13 kg|             COPAGAZ|\n",
            "|            CO|            MS|CAMPO GRANDE|AUTO POSTO MALIBU...| 02.110.486/0001-46|RUA JOSE NOGUEIRA...|      1310|            null|       TIRADENTES|79042-010|GAS DE COZINHA|    01/12/2021|         95,99|           null|       R$ / 13 kg|            LIQUIGÁS|\n",
            "|            CO|            MS|CAMPO GRANDE| POSTO ROUXINOL LTDA| 00.413.865/0001-80|    AVENIDA ROUXINOL|        35|            null|       TIRADENTES|79041-150|GAS DE COZINHA|    01/12/2021|            98|           null|       R$ / 13 kg|             COPAGAZ|\n",
            "|            CO|            MS|    DOURADOS|GABIATTI & GABIAT...| 04.075.654/0001-35|RUA CORONEL PONCIANO|      2230|            null|  VILA INDUSTRIAL|79840-230|GAS DE COZINHA|    01/12/2021|            95|           null|       R$ / 13 kg|            LIQUIGÁS|\n",
            "|             N|            PA|       BELEM|AUTO POSTO GK EIRELI| 07.909.407/0001-85|AVENIDA DUQUE DE ...|      1169|            null|            MARCO|66093-400|GAS DE COZINHA|    01/12/2021|           112|           null|       R$ / 13 kg| NACIONAL GÁS BUTANO|\n",
            "|             N|            PA|       BELEM|GP PETROLEO COMER...| 06.945.995/0002-20|AVENIDA GENERALIS...|       306|            null|         UMARIZAL|66055-240|GAS DE COZINHA|    01/12/2021|           118|           null|       R$ / 13 kg|SUPERGASBRAS ENERGIA|\n",
            "|             N|            PA|       BELEM|IRMAOS TEIXEIRA LTDA| 04.976.718/0003-30|AVENIDA PEDRO ALV...|      3800|            null|       SACRAMENTA|66120-620|GAS DE COZINHA|    01/12/2021|           113|           null|       R$ / 13 kg|             BAHIANA|\n",
            "+--------------+--------------+------------+--------------------+-------------------+--------------------+----------+----------------+-----------------+---------+--------------+--------------+--------------+---------------+-----------------+--------------------+\n",
            "only showing top 20 rows\n",
            "\n"
          ]
        }
      ]
    },
    {
      "cell_type": "code",
      "source": [
        "# Renomeando colunas\n",
        "df.withColumnRenamed(existing = 'Estado - Sigla', new = 'Estado').show()"
      ],
      "metadata": {
        "colab": {
          "base_uri": "https://localhost:8080/"
        },
        "id": "KZYdJf_TLXRx",
        "outputId": "b697348b-e4f4-4d20-c522-80a1deec691e"
      },
      "execution_count": 26,
      "outputs": [
        {
          "output_type": "stream",
          "name": "stdout",
          "text": [
            "+--------------+------+------------+--------------------+-------------------+--------------------+----------+----------------+-----------------+---------+-------+--------------+--------------+---------------+-----------------+--------------------+\n",
            "|Regiao - Sigla|Estado|   Municipio|             Revenda|    CNPJ da Revenda|         Nome da Rua|Numero Rua|     Complemento|           Bairro|      Cep|Produto|Data da Coleta|Valor de Venda|Valor de Compra|Unidade de Medida|            Bandeira|\n",
            "+--------------+------+------------+--------------------+-------------------+--------------------+----------+----------------+-----------------+---------+-------+--------------+--------------+---------------+-----------------+--------------------+\n",
            "|            SE|    SP| SAO VICENTE|CONSIGAZ DISTRIBU...| 01.597.589/0003-81| RUA MANOEL DE ABREU|       790|      QUADRA 108|   CIDADE NAUTICA|11355-400|    GLP|    01/12/2021|         97,99|           null|       R$ / 13 kg|            CONSIGAZ|\n",
            "|             N|    AC|  RIO BRANCO|AUTO POSTO AMAPA ...| 00.529.581/0001-53|    VIA CHICO MENDES|      3570|            null|            AREAL|69906-119|    GLP|    01/12/2021|           115|           null|       R$ / 13 kg|               FOGAS|\n",
            "|             N|    AC|  RIO BRANCO|AUTO POSTO ACAUAN...| 00.524.999/0001-78|       RODOVIA AC 40|      1800|            null|        VILA ACRE|69902-450|    GLP|    01/12/2021|           110|           null|       R$ / 13 kg|           AMAZONGÁS|\n",
            "|             N|    AC|  RIO BRANCO|AUTO POSTO CANIND...| 05.442.544/0001-27|       RODOVIA AC 40|      3206|           KM 07|        VILA ACRE|69902-450|    GLP|    01/12/2021|           115|           null|       R$ / 13 kg|           AMAZONGÁS|\n",
            "|             N|    AC|  RIO BRANCO|AUTO POSTO AEROPO...| 14.294.227/0001-00|      V CHICO MENDES|      2583|            null|           COMARA|69906-326|    GLP|    01/12/2021|           115|           null|       R$ / 13 kg|           AMAZONGÁS|\n",
            "|            CO|    DF|    BRASILIA|SOUSA & ALVES COM...| 07.111.605/0001-07| QNM 15 LOTE G AR...|       S/N|            null|        CEILANDIA|72215-150|    GLP|    01/12/2021|         99,99|           null|       R$ / 13 kg|SUPERGASBRAS ENERGIA|\n",
            "|            CO|    DF|    BRASILIA|MARLIM COMBUSTIVE...| 04.494.011/0001-26|          QNO 06 PLL|       S/N|            null|        CEILÂNDIA|72237-100|    GLP|    01/12/2021|         98,99|           null|       R$ / 13 kg|            LIQUIGÁS|\n",
            "|            CO|    DF|    BRASILIA|AUTO SHOPPING DER...| 37.063.328/0009-14| QI 19 LOTES 02 E 04|       S/N|SETOR INDUSTRIAL|       TAGUATINGA|72120-190|    GLP|    01/12/2021|         98,99|           null|       R$ / 13 kg|            ULTRAGAZ|\n",
            "|            CO|    DF|    BRASILIA|LR COMERCIO DE PR...| 24.912.669/0001-18|              QNO 15|       S/N|        LOTE PLL|        CEILANDIA|72255-600|    GLP|    01/12/2021|         99,99|           null|       R$ / 13 kg|              BRANCA|\n",
            "|            CO|    DF|    BRASILIA|CASCOL COMBUSTIVE...| 00.306.597/0015-00|QUADRA QR 516 CON...|         1|            null|    SAMAMBAIA SUL|70772-500|    GLP|    01/12/2021|         99,99|           null|       R$ / 13 kg|            ULTRAGAZ|\n",
            "|            CO|    DF|    BRASILIA|CASCOL COMBUSTIVE...| 00.306.597/0017-64|   QUADRA QNO 05 PLL|       S/N|            null|        CEILANDIA|72251-000|    GLP|    01/12/2021|         99,99|           null|       R$ / 13 kg|            LIQUIGÁS|\n",
            "|            CO|    DF|    BRASILIA|CASCOL COMBUSTIVE...| 00.306.597/0008-73|   SETOR CSD 06 LOTE|        36|     SETOR D SUL|       TAGUATINGA|72020-000|    GLP|    01/12/2021|         97,99|           null|       R$ / 13 kg|            ULTRAGAZ|\n",
            "|            CO|    MS|CAMPO GRANDE|POSTO DOS PODERES...| 24.624.785/0001-31|    AVENIDA DO POETA|       990|            null| DO DESBARRANCADO|79031-350|    GLP|    01/12/2021|           100|           null|       R$ / 13 kg|SUPERGASBRAS ENERGIA|\n",
            "|            CO|    MS|CAMPO GRANDE|RIBEIRO DE MENDON...| 16.045.015/0001-06| AVENIDA AFONSO PENA|      5264|            null|CHACARA CACHOEIRA|79040-010|    GLP|    01/12/2021|           116|           null|       R$ / 13 kg|             COPAGAZ|\n",
            "|            CO|    MS|CAMPO GRANDE|AUTO POSTO MALIBU...| 02.110.486/0001-46|RUA JOSE NOGUEIRA...|      1310|            null|       TIRADENTES|79042-010|    GLP|    01/12/2021|         95,99|           null|       R$ / 13 kg|            LIQUIGÁS|\n",
            "|            CO|    MS|CAMPO GRANDE| POSTO ROUXINOL LTDA| 00.413.865/0001-80|    AVENIDA ROUXINOL|        35|            null|       TIRADENTES|79041-150|    GLP|    01/12/2021|            98|           null|       R$ / 13 kg|             COPAGAZ|\n",
            "|            CO|    MS|    DOURADOS|GABIATTI & GABIAT...| 04.075.654/0001-35|RUA CORONEL PONCIANO|      2230|            null|  VILA INDUSTRIAL|79840-230|    GLP|    01/12/2021|            95|           null|       R$ / 13 kg|            LIQUIGÁS|\n",
            "|             N|    PA|       BELEM|AUTO POSTO GK EIRELI| 07.909.407/0001-85|AVENIDA DUQUE DE ...|      1169|            null|            MARCO|66093-400|    GLP|    01/12/2021|           112|           null|       R$ / 13 kg| NACIONAL GÁS BUTANO|\n",
            "|             N|    PA|       BELEM|GP PETROLEO COMER...| 06.945.995/0002-20|AVENIDA GENERALIS...|       306|            null|         UMARIZAL|66055-240|    GLP|    01/12/2021|           118|           null|       R$ / 13 kg|SUPERGASBRAS ENERGIA|\n",
            "|             N|    PA|       BELEM|IRMAOS TEIXEIRA LTDA| 04.976.718/0003-30|AVENIDA PEDRO ALV...|      3800|            null|       SACRAMENTA|66120-620|    GLP|    01/12/2021|           113|           null|       R$ / 13 kg|             BAHIANA|\n",
            "+--------------+------+------------+--------------------+-------------------+--------------------+----------+----------------+-----------------+---------+-------+--------------+--------------+---------------+-----------------+--------------------+\n",
            "only showing top 20 rows\n",
            "\n"
          ]
        }
      ]
    },
    {
      "cell_type": "code",
      "source": [
        "# Apagando colunas do SparkDataFrame\n",
        "df.drop('Municipio','Revenda').show()"
      ],
      "metadata": {
        "colab": {
          "base_uri": "https://localhost:8080/"
        },
        "id": "HNZXb7-cZ9gT",
        "outputId": "f45a27d1-cd31-406b-e943-cd3fbec93dce"
      },
      "execution_count": 27,
      "outputs": [
        {
          "output_type": "stream",
          "name": "stdout",
          "text": [
            "+--------------+--------------+-------------------+--------------------+----------+----------------+-----------------+---------+-------+--------------+--------------+---------------+-----------------+--------------------+\n",
            "|Regiao - Sigla|Estado - Sigla|    CNPJ da Revenda|         Nome da Rua|Numero Rua|     Complemento|           Bairro|      Cep|Produto|Data da Coleta|Valor de Venda|Valor de Compra|Unidade de Medida|            Bandeira|\n",
            "+--------------+--------------+-------------------+--------------------+----------+----------------+-----------------+---------+-------+--------------+--------------+---------------+-----------------+--------------------+\n",
            "|            SE|            SP| 01.597.589/0003-81| RUA MANOEL DE ABREU|       790|      QUADRA 108|   CIDADE NAUTICA|11355-400|    GLP|    01/12/2021|         97,99|           null|       R$ / 13 kg|            CONSIGAZ|\n",
            "|             N|            AC| 00.529.581/0001-53|    VIA CHICO MENDES|      3570|            null|            AREAL|69906-119|    GLP|    01/12/2021|           115|           null|       R$ / 13 kg|               FOGAS|\n",
            "|             N|            AC| 00.524.999/0001-78|       RODOVIA AC 40|      1800|            null|        VILA ACRE|69902-450|    GLP|    01/12/2021|           110|           null|       R$ / 13 kg|           AMAZONGÁS|\n",
            "|             N|            AC| 05.442.544/0001-27|       RODOVIA AC 40|      3206|           KM 07|        VILA ACRE|69902-450|    GLP|    01/12/2021|           115|           null|       R$ / 13 kg|           AMAZONGÁS|\n",
            "|             N|            AC| 14.294.227/0001-00|      V CHICO MENDES|      2583|            null|           COMARA|69906-326|    GLP|    01/12/2021|           115|           null|       R$ / 13 kg|           AMAZONGÁS|\n",
            "|            CO|            DF| 07.111.605/0001-07| QNM 15 LOTE G AR...|       S/N|            null|        CEILANDIA|72215-150|    GLP|    01/12/2021|         99,99|           null|       R$ / 13 kg|SUPERGASBRAS ENERGIA|\n",
            "|            CO|            DF| 04.494.011/0001-26|          QNO 06 PLL|       S/N|            null|        CEILÂNDIA|72237-100|    GLP|    01/12/2021|         98,99|           null|       R$ / 13 kg|            LIQUIGÁS|\n",
            "|            CO|            DF| 37.063.328/0009-14| QI 19 LOTES 02 E 04|       S/N|SETOR INDUSTRIAL|       TAGUATINGA|72120-190|    GLP|    01/12/2021|         98,99|           null|       R$ / 13 kg|            ULTRAGAZ|\n",
            "|            CO|            DF| 24.912.669/0001-18|              QNO 15|       S/N|        LOTE PLL|        CEILANDIA|72255-600|    GLP|    01/12/2021|         99,99|           null|       R$ / 13 kg|              BRANCA|\n",
            "|            CO|            DF| 00.306.597/0015-00|QUADRA QR 516 CON...|         1|            null|    SAMAMBAIA SUL|70772-500|    GLP|    01/12/2021|         99,99|           null|       R$ / 13 kg|            ULTRAGAZ|\n",
            "|            CO|            DF| 00.306.597/0017-64|   QUADRA QNO 05 PLL|       S/N|            null|        CEILANDIA|72251-000|    GLP|    01/12/2021|         99,99|           null|       R$ / 13 kg|            LIQUIGÁS|\n",
            "|            CO|            DF| 00.306.597/0008-73|   SETOR CSD 06 LOTE|        36|     SETOR D SUL|       TAGUATINGA|72020-000|    GLP|    01/12/2021|         97,99|           null|       R$ / 13 kg|            ULTRAGAZ|\n",
            "|            CO|            MS| 24.624.785/0001-31|    AVENIDA DO POETA|       990|            null| DO DESBARRANCADO|79031-350|    GLP|    01/12/2021|           100|           null|       R$ / 13 kg|SUPERGASBRAS ENERGIA|\n",
            "|            CO|            MS| 16.045.015/0001-06| AVENIDA AFONSO PENA|      5264|            null|CHACARA CACHOEIRA|79040-010|    GLP|    01/12/2021|           116|           null|       R$ / 13 kg|             COPAGAZ|\n",
            "|            CO|            MS| 02.110.486/0001-46|RUA JOSE NOGUEIRA...|      1310|            null|       TIRADENTES|79042-010|    GLP|    01/12/2021|         95,99|           null|       R$ / 13 kg|            LIQUIGÁS|\n",
            "|            CO|            MS| 00.413.865/0001-80|    AVENIDA ROUXINOL|        35|            null|       TIRADENTES|79041-150|    GLP|    01/12/2021|            98|           null|       R$ / 13 kg|             COPAGAZ|\n",
            "|            CO|            MS| 04.075.654/0001-35|RUA CORONEL PONCIANO|      2230|            null|  VILA INDUSTRIAL|79840-230|    GLP|    01/12/2021|            95|           null|       R$ / 13 kg|            LIQUIGÁS|\n",
            "|             N|            PA| 07.909.407/0001-85|AVENIDA DUQUE DE ...|      1169|            null|            MARCO|66093-400|    GLP|    01/12/2021|           112|           null|       R$ / 13 kg| NACIONAL GÁS BUTANO|\n",
            "|             N|            PA| 06.945.995/0002-20|AVENIDA GENERALIS...|       306|            null|         UMARIZAL|66055-240|    GLP|    01/12/2021|           118|           null|       R$ / 13 kg|SUPERGASBRAS ENERGIA|\n",
            "|             N|            PA| 04.976.718/0003-30|AVENIDA PEDRO ALV...|      3800|            null|       SACRAMENTA|66120-620|    GLP|    01/12/2021|           113|           null|       R$ / 13 kg|             BAHIANA|\n",
            "+--------------+--------------+-------------------+--------------------+----------+----------------+-----------------+---------+-------+--------------+--------------+---------------+-----------------+--------------------+\n",
            "only showing top 20 rows\n",
            "\n"
          ]
        }
      ]
    },
    {
      "cell_type": "markdown",
      "source": [
        "## **Transformações úteis para um Cientista de Dados**"
      ],
      "metadata": {
        "id": "l3IM7ev7qmOY"
      }
    },
    {
      "cell_type": "code",
      "source": [
        "# Verificando os tipos das variáveis\n",
        "df.printSchema()"
      ],
      "metadata": {
        "colab": {
          "base_uri": "https://localhost:8080/"
        },
        "id": "ZbTsIoEkq41M",
        "outputId": "05c7a16b-06b7-46ee-9535-eb5ec474ec80"
      },
      "execution_count": 28,
      "outputs": [
        {
          "output_type": "stream",
          "name": "stdout",
          "text": [
            "root\n",
            " |-- Regiao - Sigla: string (nullable = true)\n",
            " |-- Estado - Sigla: string (nullable = true)\n",
            " |-- Municipio: string (nullable = true)\n",
            " |-- Revenda: string (nullable = true)\n",
            " |-- CNPJ da Revenda: string (nullable = true)\n",
            " |-- Nome da Rua: string (nullable = true)\n",
            " |-- Numero Rua: string (nullable = true)\n",
            " |-- Complemento: string (nullable = true)\n",
            " |-- Bairro: string (nullable = true)\n",
            " |-- Cep: string (nullable = true)\n",
            " |-- Produto: string (nullable = true)\n",
            " |-- Data da Coleta: string (nullable = true)\n",
            " |-- Valor de Venda: string (nullable = true)\n",
            " |-- Valor de Compra: string (nullable = true)\n",
            " |-- Unidade de Medida: string (nullable = true)\n",
            " |-- Bandeira: string (nullable = true)\n",
            "\n"
          ]
        }
      ]
    },
    {
      "cell_type": "markdown",
      "source": [
        "### **Corrigindo tipos de variáveis do SparkDataFrame**"
      ],
      "metadata": {
        "id": "5TIKffusK3A5"
      }
    },
    {
      "cell_type": "code",
      "source": [
        "# Substituindo '/' por '-' e alterando para a variavel para o formato date\n",
        "df = df.withColumn(\n",
        "    colName = 'Data da Coleta', \n",
        "    col = to_date(\n",
        "            col = regexp_replace('Data da Coleta','/','-'),\n",
        "            format = \"dd-MM-yyyy\"\n",
        "          )\n",
        "    )\n",
        "\n",
        "# Inspecionando o resultado\n",
        "df.select('Data da Coleta').printSchema()\n",
        "df.show()"
      ],
      "metadata": {
        "colab": {
          "base_uri": "https://localhost:8080/"
        },
        "id": "znYyqLbJver3",
        "outputId": "62b997ad-c92a-4e05-ba18-4c000f311546"
      },
      "execution_count": 29,
      "outputs": [
        {
          "output_type": "stream",
          "name": "stdout",
          "text": [
            "root\n",
            " |-- Data da Coleta: date (nullable = true)\n",
            "\n",
            "+--------------+--------------+------------+--------------------+-------------------+--------------------+----------+----------------+-----------------+---------+-------+--------------+--------------+---------------+-----------------+--------------------+\n",
            "|Regiao - Sigla|Estado - Sigla|   Municipio|             Revenda|    CNPJ da Revenda|         Nome da Rua|Numero Rua|     Complemento|           Bairro|      Cep|Produto|Data da Coleta|Valor de Venda|Valor de Compra|Unidade de Medida|            Bandeira|\n",
            "+--------------+--------------+------------+--------------------+-------------------+--------------------+----------+----------------+-----------------+---------+-------+--------------+--------------+---------------+-----------------+--------------------+\n",
            "|            SE|            SP| SAO VICENTE|CONSIGAZ DISTRIBU...| 01.597.589/0003-81| RUA MANOEL DE ABREU|       790|      QUADRA 108|   CIDADE NAUTICA|11355-400|    GLP|    2021-12-01|         97,99|           null|       R$ / 13 kg|            CONSIGAZ|\n",
            "|             N|            AC|  RIO BRANCO|AUTO POSTO AMAPA ...| 00.529.581/0001-53|    VIA CHICO MENDES|      3570|            null|            AREAL|69906-119|    GLP|    2021-12-01|           115|           null|       R$ / 13 kg|               FOGAS|\n",
            "|             N|            AC|  RIO BRANCO|AUTO POSTO ACAUAN...| 00.524.999/0001-78|       RODOVIA AC 40|      1800|            null|        VILA ACRE|69902-450|    GLP|    2021-12-01|           110|           null|       R$ / 13 kg|           AMAZONGÁS|\n",
            "|             N|            AC|  RIO BRANCO|AUTO POSTO CANIND...| 05.442.544/0001-27|       RODOVIA AC 40|      3206|           KM 07|        VILA ACRE|69902-450|    GLP|    2021-12-01|           115|           null|       R$ / 13 kg|           AMAZONGÁS|\n",
            "|             N|            AC|  RIO BRANCO|AUTO POSTO AEROPO...| 14.294.227/0001-00|      V CHICO MENDES|      2583|            null|           COMARA|69906-326|    GLP|    2021-12-01|           115|           null|       R$ / 13 kg|           AMAZONGÁS|\n",
            "|            CO|            DF|    BRASILIA|SOUSA & ALVES COM...| 07.111.605/0001-07| QNM 15 LOTE G AR...|       S/N|            null|        CEILANDIA|72215-150|    GLP|    2021-12-01|         99,99|           null|       R$ / 13 kg|SUPERGASBRAS ENERGIA|\n",
            "|            CO|            DF|    BRASILIA|MARLIM COMBUSTIVE...| 04.494.011/0001-26|          QNO 06 PLL|       S/N|            null|        CEILÂNDIA|72237-100|    GLP|    2021-12-01|         98,99|           null|       R$ / 13 kg|            LIQUIGÁS|\n",
            "|            CO|            DF|    BRASILIA|AUTO SHOPPING DER...| 37.063.328/0009-14| QI 19 LOTES 02 E 04|       S/N|SETOR INDUSTRIAL|       TAGUATINGA|72120-190|    GLP|    2021-12-01|         98,99|           null|       R$ / 13 kg|            ULTRAGAZ|\n",
            "|            CO|            DF|    BRASILIA|LR COMERCIO DE PR...| 24.912.669/0001-18|              QNO 15|       S/N|        LOTE PLL|        CEILANDIA|72255-600|    GLP|    2021-12-01|         99,99|           null|       R$ / 13 kg|              BRANCA|\n",
            "|            CO|            DF|    BRASILIA|CASCOL COMBUSTIVE...| 00.306.597/0015-00|QUADRA QR 516 CON...|         1|            null|    SAMAMBAIA SUL|70772-500|    GLP|    2021-12-01|         99,99|           null|       R$ / 13 kg|            ULTRAGAZ|\n",
            "|            CO|            DF|    BRASILIA|CASCOL COMBUSTIVE...| 00.306.597/0017-64|   QUADRA QNO 05 PLL|       S/N|            null|        CEILANDIA|72251-000|    GLP|    2021-12-01|         99,99|           null|       R$ / 13 kg|            LIQUIGÁS|\n",
            "|            CO|            DF|    BRASILIA|CASCOL COMBUSTIVE...| 00.306.597/0008-73|   SETOR CSD 06 LOTE|        36|     SETOR D SUL|       TAGUATINGA|72020-000|    GLP|    2021-12-01|         97,99|           null|       R$ / 13 kg|            ULTRAGAZ|\n",
            "|            CO|            MS|CAMPO GRANDE|POSTO DOS PODERES...| 24.624.785/0001-31|    AVENIDA DO POETA|       990|            null| DO DESBARRANCADO|79031-350|    GLP|    2021-12-01|           100|           null|       R$ / 13 kg|SUPERGASBRAS ENERGIA|\n",
            "|            CO|            MS|CAMPO GRANDE|RIBEIRO DE MENDON...| 16.045.015/0001-06| AVENIDA AFONSO PENA|      5264|            null|CHACARA CACHOEIRA|79040-010|    GLP|    2021-12-01|           116|           null|       R$ / 13 kg|             COPAGAZ|\n",
            "|            CO|            MS|CAMPO GRANDE|AUTO POSTO MALIBU...| 02.110.486/0001-46|RUA JOSE NOGUEIRA...|      1310|            null|       TIRADENTES|79042-010|    GLP|    2021-12-01|         95,99|           null|       R$ / 13 kg|            LIQUIGÁS|\n",
            "|            CO|            MS|CAMPO GRANDE| POSTO ROUXINOL LTDA| 00.413.865/0001-80|    AVENIDA ROUXINOL|        35|            null|       TIRADENTES|79041-150|    GLP|    2021-12-01|            98|           null|       R$ / 13 kg|             COPAGAZ|\n",
            "|            CO|            MS|    DOURADOS|GABIATTI & GABIAT...| 04.075.654/0001-35|RUA CORONEL PONCIANO|      2230|            null|  VILA INDUSTRIAL|79840-230|    GLP|    2021-12-01|            95|           null|       R$ / 13 kg|            LIQUIGÁS|\n",
            "|             N|            PA|       BELEM|AUTO POSTO GK EIRELI| 07.909.407/0001-85|AVENIDA DUQUE DE ...|      1169|            null|            MARCO|66093-400|    GLP|    2021-12-01|           112|           null|       R$ / 13 kg| NACIONAL GÁS BUTANO|\n",
            "|             N|            PA|       BELEM|GP PETROLEO COMER...| 06.945.995/0002-20|AVENIDA GENERALIS...|       306|            null|         UMARIZAL|66055-240|    GLP|    2021-12-01|           118|           null|       R$ / 13 kg|SUPERGASBRAS ENERGIA|\n",
            "|             N|            PA|       BELEM|IRMAOS TEIXEIRA LTDA| 04.976.718/0003-30|AVENIDA PEDRO ALV...|      3800|            null|       SACRAMENTA|66120-620|    GLP|    2021-12-01|           113|           null|       R$ / 13 kg|             BAHIANA|\n",
            "+--------------+--------------+------------+--------------------+-------------------+--------------------+----------+----------------+-----------------+---------+-------+--------------+--------------+---------------+-----------------+--------------------+\n",
            "only showing top 20 rows\n",
            "\n"
          ]
        }
      ]
    },
    {
      "cell_type": "code",
      "source": [
        "# Transformando o preco em numerica\n",
        "df = df.withColumn(\n",
        "    colName = 'Valor de Venda', \n",
        "    col = regexp_replace('Valor de Venda',',','.').cast('float')\n",
        "    )\n",
        "\n",
        "# Inspecionando o resultado\n",
        "df.select('Valor de Venda').printSchema()\n",
        "df.show()\n"
      ],
      "metadata": {
        "colab": {
          "base_uri": "https://localhost:8080/"
        },
        "id": "nZbhkdlZqq7M",
        "outputId": "2d026c5e-dc97-44db-91a0-b93ce4acb491"
      },
      "execution_count": 30,
      "outputs": [
        {
          "output_type": "stream",
          "name": "stdout",
          "text": [
            "root\n",
            " |-- Valor de Venda: float (nullable = true)\n",
            "\n",
            "+--------------+--------------+------------+--------------------+-------------------+--------------------+----------+----------------+-----------------+---------+-------+--------------+--------------+---------------+-----------------+--------------------+\n",
            "|Regiao - Sigla|Estado - Sigla|   Municipio|             Revenda|    CNPJ da Revenda|         Nome da Rua|Numero Rua|     Complemento|           Bairro|      Cep|Produto|Data da Coleta|Valor de Venda|Valor de Compra|Unidade de Medida|            Bandeira|\n",
            "+--------------+--------------+------------+--------------------+-------------------+--------------------+----------+----------------+-----------------+---------+-------+--------------+--------------+---------------+-----------------+--------------------+\n",
            "|            SE|            SP| SAO VICENTE|CONSIGAZ DISTRIBU...| 01.597.589/0003-81| RUA MANOEL DE ABREU|       790|      QUADRA 108|   CIDADE NAUTICA|11355-400|    GLP|    2021-12-01|         97.99|           null|       R$ / 13 kg|            CONSIGAZ|\n",
            "|             N|            AC|  RIO BRANCO|AUTO POSTO AMAPA ...| 00.529.581/0001-53|    VIA CHICO MENDES|      3570|            null|            AREAL|69906-119|    GLP|    2021-12-01|         115.0|           null|       R$ / 13 kg|               FOGAS|\n",
            "|             N|            AC|  RIO BRANCO|AUTO POSTO ACAUAN...| 00.524.999/0001-78|       RODOVIA AC 40|      1800|            null|        VILA ACRE|69902-450|    GLP|    2021-12-01|         110.0|           null|       R$ / 13 kg|           AMAZONGÁS|\n",
            "|             N|            AC|  RIO BRANCO|AUTO POSTO CANIND...| 05.442.544/0001-27|       RODOVIA AC 40|      3206|           KM 07|        VILA ACRE|69902-450|    GLP|    2021-12-01|         115.0|           null|       R$ / 13 kg|           AMAZONGÁS|\n",
            "|             N|            AC|  RIO BRANCO|AUTO POSTO AEROPO...| 14.294.227/0001-00|      V CHICO MENDES|      2583|            null|           COMARA|69906-326|    GLP|    2021-12-01|         115.0|           null|       R$ / 13 kg|           AMAZONGÁS|\n",
            "|            CO|            DF|    BRASILIA|SOUSA & ALVES COM...| 07.111.605/0001-07| QNM 15 LOTE G AR...|       S/N|            null|        CEILANDIA|72215-150|    GLP|    2021-12-01|         99.99|           null|       R$ / 13 kg|SUPERGASBRAS ENERGIA|\n",
            "|            CO|            DF|    BRASILIA|MARLIM COMBUSTIVE...| 04.494.011/0001-26|          QNO 06 PLL|       S/N|            null|        CEILÂNDIA|72237-100|    GLP|    2021-12-01|         98.99|           null|       R$ / 13 kg|            LIQUIGÁS|\n",
            "|            CO|            DF|    BRASILIA|AUTO SHOPPING DER...| 37.063.328/0009-14| QI 19 LOTES 02 E 04|       S/N|SETOR INDUSTRIAL|       TAGUATINGA|72120-190|    GLP|    2021-12-01|         98.99|           null|       R$ / 13 kg|            ULTRAGAZ|\n",
            "|            CO|            DF|    BRASILIA|LR COMERCIO DE PR...| 24.912.669/0001-18|              QNO 15|       S/N|        LOTE PLL|        CEILANDIA|72255-600|    GLP|    2021-12-01|         99.99|           null|       R$ / 13 kg|              BRANCA|\n",
            "|            CO|            DF|    BRASILIA|CASCOL COMBUSTIVE...| 00.306.597/0015-00|QUADRA QR 516 CON...|         1|            null|    SAMAMBAIA SUL|70772-500|    GLP|    2021-12-01|         99.99|           null|       R$ / 13 kg|            ULTRAGAZ|\n",
            "|            CO|            DF|    BRASILIA|CASCOL COMBUSTIVE...| 00.306.597/0017-64|   QUADRA QNO 05 PLL|       S/N|            null|        CEILANDIA|72251-000|    GLP|    2021-12-01|         99.99|           null|       R$ / 13 kg|            LIQUIGÁS|\n",
            "|            CO|            DF|    BRASILIA|CASCOL COMBUSTIVE...| 00.306.597/0008-73|   SETOR CSD 06 LOTE|        36|     SETOR D SUL|       TAGUATINGA|72020-000|    GLP|    2021-12-01|         97.99|           null|       R$ / 13 kg|            ULTRAGAZ|\n",
            "|            CO|            MS|CAMPO GRANDE|POSTO DOS PODERES...| 24.624.785/0001-31|    AVENIDA DO POETA|       990|            null| DO DESBARRANCADO|79031-350|    GLP|    2021-12-01|         100.0|           null|       R$ / 13 kg|SUPERGASBRAS ENERGIA|\n",
            "|            CO|            MS|CAMPO GRANDE|RIBEIRO DE MENDON...| 16.045.015/0001-06| AVENIDA AFONSO PENA|      5264|            null|CHACARA CACHOEIRA|79040-010|    GLP|    2021-12-01|         116.0|           null|       R$ / 13 kg|             COPAGAZ|\n",
            "|            CO|            MS|CAMPO GRANDE|AUTO POSTO MALIBU...| 02.110.486/0001-46|RUA JOSE NOGUEIRA...|      1310|            null|       TIRADENTES|79042-010|    GLP|    2021-12-01|         95.99|           null|       R$ / 13 kg|            LIQUIGÁS|\n",
            "|            CO|            MS|CAMPO GRANDE| POSTO ROUXINOL LTDA| 00.413.865/0001-80|    AVENIDA ROUXINOL|        35|            null|       TIRADENTES|79041-150|    GLP|    2021-12-01|          98.0|           null|       R$ / 13 kg|             COPAGAZ|\n",
            "|            CO|            MS|    DOURADOS|GABIATTI & GABIAT...| 04.075.654/0001-35|RUA CORONEL PONCIANO|      2230|            null|  VILA INDUSTRIAL|79840-230|    GLP|    2021-12-01|          95.0|           null|       R$ / 13 kg|            LIQUIGÁS|\n",
            "|             N|            PA|       BELEM|AUTO POSTO GK EIRELI| 07.909.407/0001-85|AVENIDA DUQUE DE ...|      1169|            null|            MARCO|66093-400|    GLP|    2021-12-01|         112.0|           null|       R$ / 13 kg| NACIONAL GÁS BUTANO|\n",
            "|             N|            PA|       BELEM|GP PETROLEO COMER...| 06.945.995/0002-20|AVENIDA GENERALIS...|       306|            null|         UMARIZAL|66055-240|    GLP|    2021-12-01|         118.0|           null|       R$ / 13 kg|SUPERGASBRAS ENERGIA|\n",
            "|             N|            PA|       BELEM|IRMAOS TEIXEIRA LTDA| 04.976.718/0003-30|AVENIDA PEDRO ALV...|      3800|            null|       SACRAMENTA|66120-620|    GLP|    2021-12-01|         113.0|           null|       R$ / 13 kg|             BAHIANA|\n",
            "+--------------+--------------+------------+--------------------+-------------------+--------------------+----------+----------------+-----------------+---------+-------+--------------+--------------+---------------+-----------------+--------------------+\n",
            "only showing top 20 rows\n",
            "\n"
          ]
        }
      ]
    },
    {
      "cell_type": "markdown",
      "source": [
        "### **Categorizando variáveis**"
      ],
      "metadata": {
        "id": "bGH_0E4LGAZ8"
      }
    },
    {
      "cell_type": "code",
      "source": [
        "# Substituindo '/' por '-' e alterando para a variavel para o formato date\n",
        "df.withColumn(\n",
        "    colName = 'Faixa_Preco', \n",
        "    col = (\n",
        "        when(df['Valor de Venda']<100,' abaixo de R$100,00').\n",
        "        when(((df['Valor de Venda']>=100) & \n",
        "            (df['Valor de Venda']<110)),'de R$100 a R$109,99').\n",
        "       otherwise('R$110,00 ou mais')\n",
        "    )\n",
        "    ).show()"
      ],
      "metadata": {
        "colab": {
          "base_uri": "https://localhost:8080/"
        },
        "id": "UM_91fn3F_dr",
        "outputId": "a334d632-8f5e-4f7e-9a4f-02b05027f232"
      },
      "execution_count": 31,
      "outputs": [
        {
          "output_type": "stream",
          "name": "stdout",
          "text": [
            "+--------------+--------------+------------+--------------------+-------------------+--------------------+----------+----------------+-----------------+---------+-------+--------------+--------------+---------------+-----------------+--------------------+-------------------+\n",
            "|Regiao - Sigla|Estado - Sigla|   Municipio|             Revenda|    CNPJ da Revenda|         Nome da Rua|Numero Rua|     Complemento|           Bairro|      Cep|Produto|Data da Coleta|Valor de Venda|Valor de Compra|Unidade de Medida|            Bandeira|        Faixa_Preco|\n",
            "+--------------+--------------+------------+--------------------+-------------------+--------------------+----------+----------------+-----------------+---------+-------+--------------+--------------+---------------+-----------------+--------------------+-------------------+\n",
            "|            SE|            SP| SAO VICENTE|CONSIGAZ DISTRIBU...| 01.597.589/0003-81| RUA MANOEL DE ABREU|       790|      QUADRA 108|   CIDADE NAUTICA|11355-400|    GLP|    2021-12-01|         97.99|           null|       R$ / 13 kg|            CONSIGAZ| abaixo de R$100,00|\n",
            "|             N|            AC|  RIO BRANCO|AUTO POSTO AMAPA ...| 00.529.581/0001-53|    VIA CHICO MENDES|      3570|            null|            AREAL|69906-119|    GLP|    2021-12-01|         115.0|           null|       R$ / 13 kg|               FOGAS|   R$110,00 ou mais|\n",
            "|             N|            AC|  RIO BRANCO|AUTO POSTO ACAUAN...| 00.524.999/0001-78|       RODOVIA AC 40|      1800|            null|        VILA ACRE|69902-450|    GLP|    2021-12-01|         110.0|           null|       R$ / 13 kg|           AMAZONGÁS|   R$110,00 ou mais|\n",
            "|             N|            AC|  RIO BRANCO|AUTO POSTO CANIND...| 05.442.544/0001-27|       RODOVIA AC 40|      3206|           KM 07|        VILA ACRE|69902-450|    GLP|    2021-12-01|         115.0|           null|       R$ / 13 kg|           AMAZONGÁS|   R$110,00 ou mais|\n",
            "|             N|            AC|  RIO BRANCO|AUTO POSTO AEROPO...| 14.294.227/0001-00|      V CHICO MENDES|      2583|            null|           COMARA|69906-326|    GLP|    2021-12-01|         115.0|           null|       R$ / 13 kg|           AMAZONGÁS|   R$110,00 ou mais|\n",
            "|            CO|            DF|    BRASILIA|SOUSA & ALVES COM...| 07.111.605/0001-07| QNM 15 LOTE G AR...|       S/N|            null|        CEILANDIA|72215-150|    GLP|    2021-12-01|         99.99|           null|       R$ / 13 kg|SUPERGASBRAS ENERGIA| abaixo de R$100,00|\n",
            "|            CO|            DF|    BRASILIA|MARLIM COMBUSTIVE...| 04.494.011/0001-26|          QNO 06 PLL|       S/N|            null|        CEILÂNDIA|72237-100|    GLP|    2021-12-01|         98.99|           null|       R$ / 13 kg|            LIQUIGÁS| abaixo de R$100,00|\n",
            "|            CO|            DF|    BRASILIA|AUTO SHOPPING DER...| 37.063.328/0009-14| QI 19 LOTES 02 E 04|       S/N|SETOR INDUSTRIAL|       TAGUATINGA|72120-190|    GLP|    2021-12-01|         98.99|           null|       R$ / 13 kg|            ULTRAGAZ| abaixo de R$100,00|\n",
            "|            CO|            DF|    BRASILIA|LR COMERCIO DE PR...| 24.912.669/0001-18|              QNO 15|       S/N|        LOTE PLL|        CEILANDIA|72255-600|    GLP|    2021-12-01|         99.99|           null|       R$ / 13 kg|              BRANCA| abaixo de R$100,00|\n",
            "|            CO|            DF|    BRASILIA|CASCOL COMBUSTIVE...| 00.306.597/0015-00|QUADRA QR 516 CON...|         1|            null|    SAMAMBAIA SUL|70772-500|    GLP|    2021-12-01|         99.99|           null|       R$ / 13 kg|            ULTRAGAZ| abaixo de R$100,00|\n",
            "|            CO|            DF|    BRASILIA|CASCOL COMBUSTIVE...| 00.306.597/0017-64|   QUADRA QNO 05 PLL|       S/N|            null|        CEILANDIA|72251-000|    GLP|    2021-12-01|         99.99|           null|       R$ / 13 kg|            LIQUIGÁS| abaixo de R$100,00|\n",
            "|            CO|            DF|    BRASILIA|CASCOL COMBUSTIVE...| 00.306.597/0008-73|   SETOR CSD 06 LOTE|        36|     SETOR D SUL|       TAGUATINGA|72020-000|    GLP|    2021-12-01|         97.99|           null|       R$ / 13 kg|            ULTRAGAZ| abaixo de R$100,00|\n",
            "|            CO|            MS|CAMPO GRANDE|POSTO DOS PODERES...| 24.624.785/0001-31|    AVENIDA DO POETA|       990|            null| DO DESBARRANCADO|79031-350|    GLP|    2021-12-01|         100.0|           null|       R$ / 13 kg|SUPERGASBRAS ENERGIA|de R$100 a R$109,99|\n",
            "|            CO|            MS|CAMPO GRANDE|RIBEIRO DE MENDON...| 16.045.015/0001-06| AVENIDA AFONSO PENA|      5264|            null|CHACARA CACHOEIRA|79040-010|    GLP|    2021-12-01|         116.0|           null|       R$ / 13 kg|             COPAGAZ|   R$110,00 ou mais|\n",
            "|            CO|            MS|CAMPO GRANDE|AUTO POSTO MALIBU...| 02.110.486/0001-46|RUA JOSE NOGUEIRA...|      1310|            null|       TIRADENTES|79042-010|    GLP|    2021-12-01|         95.99|           null|       R$ / 13 kg|            LIQUIGÁS| abaixo de R$100,00|\n",
            "|            CO|            MS|CAMPO GRANDE| POSTO ROUXINOL LTDA| 00.413.865/0001-80|    AVENIDA ROUXINOL|        35|            null|       TIRADENTES|79041-150|    GLP|    2021-12-01|          98.0|           null|       R$ / 13 kg|             COPAGAZ| abaixo de R$100,00|\n",
            "|            CO|            MS|    DOURADOS|GABIATTI & GABIAT...| 04.075.654/0001-35|RUA CORONEL PONCIANO|      2230|            null|  VILA INDUSTRIAL|79840-230|    GLP|    2021-12-01|          95.0|           null|       R$ / 13 kg|            LIQUIGÁS| abaixo de R$100,00|\n",
            "|             N|            PA|       BELEM|AUTO POSTO GK EIRELI| 07.909.407/0001-85|AVENIDA DUQUE DE ...|      1169|            null|            MARCO|66093-400|    GLP|    2021-12-01|         112.0|           null|       R$ / 13 kg| NACIONAL GÁS BUTANO|   R$110,00 ou mais|\n",
            "|             N|            PA|       BELEM|GP PETROLEO COMER...| 06.945.995/0002-20|AVENIDA GENERALIS...|       306|            null|         UMARIZAL|66055-240|    GLP|    2021-12-01|         118.0|           null|       R$ / 13 kg|SUPERGASBRAS ENERGIA|   R$110,00 ou mais|\n",
            "|             N|            PA|       BELEM|IRMAOS TEIXEIRA LTDA| 04.976.718/0003-30|AVENIDA PEDRO ALV...|      3800|            null|       SACRAMENTA|66120-620|    GLP|    2021-12-01|         113.0|           null|       R$ / 13 kg|             BAHIANA|   R$110,00 ou mais|\n",
            "+--------------+--------------+------------+--------------------+-------------------+--------------------+----------+----------------+-----------------+---------+-------+--------------+--------------+---------------+-----------------+--------------------+-------------------+\n",
            "only showing top 20 rows\n",
            "\n"
          ]
        }
      ]
    },
    {
      "cell_type": "markdown",
      "source": [
        "### **Criando o atributo Ano de uma variável que contém Data**\n",
        "\n"
      ],
      "metadata": {
        "id": "6EOgNpa3NDoB"
      }
    },
    {
      "cell_type": "code",
      "source": [
        "# Criando \n",
        "df.withColumn(\n",
        "    colName = 'Ano', \n",
        "    col = (df['Data da Coleta'].substr(0, 4)  )\n",
        "    ).show()"
      ],
      "metadata": {
        "colab": {
          "base_uri": "https://localhost:8080/"
        },
        "id": "uPcZ1y0hMY15",
        "outputId": "08ed4e1f-e057-4f1e-84b2-f9b4f7fa0424"
      },
      "execution_count": 32,
      "outputs": [
        {
          "output_type": "stream",
          "name": "stdout",
          "text": [
            "+--------------+--------------+------------+--------------------+-------------------+--------------------+----------+----------------+-----------------+---------+-------+--------------+--------------+---------------+-----------------+--------------------+----+\n",
            "|Regiao - Sigla|Estado - Sigla|   Municipio|             Revenda|    CNPJ da Revenda|         Nome da Rua|Numero Rua|     Complemento|           Bairro|      Cep|Produto|Data da Coleta|Valor de Venda|Valor de Compra|Unidade de Medida|            Bandeira| Ano|\n",
            "+--------------+--------------+------------+--------------------+-------------------+--------------------+----------+----------------+-----------------+---------+-------+--------------+--------------+---------------+-----------------+--------------------+----+\n",
            "|            SE|            SP| SAO VICENTE|CONSIGAZ DISTRIBU...| 01.597.589/0003-81| RUA MANOEL DE ABREU|       790|      QUADRA 108|   CIDADE NAUTICA|11355-400|    GLP|    2021-12-01|         97.99|           null|       R$ / 13 kg|            CONSIGAZ|2021|\n",
            "|             N|            AC|  RIO BRANCO|AUTO POSTO AMAPA ...| 00.529.581/0001-53|    VIA CHICO MENDES|      3570|            null|            AREAL|69906-119|    GLP|    2021-12-01|         115.0|           null|       R$ / 13 kg|               FOGAS|2021|\n",
            "|             N|            AC|  RIO BRANCO|AUTO POSTO ACAUAN...| 00.524.999/0001-78|       RODOVIA AC 40|      1800|            null|        VILA ACRE|69902-450|    GLP|    2021-12-01|         110.0|           null|       R$ / 13 kg|           AMAZONGÁS|2021|\n",
            "|             N|            AC|  RIO BRANCO|AUTO POSTO CANIND...| 05.442.544/0001-27|       RODOVIA AC 40|      3206|           KM 07|        VILA ACRE|69902-450|    GLP|    2021-12-01|         115.0|           null|       R$ / 13 kg|           AMAZONGÁS|2021|\n",
            "|             N|            AC|  RIO BRANCO|AUTO POSTO AEROPO...| 14.294.227/0001-00|      V CHICO MENDES|      2583|            null|           COMARA|69906-326|    GLP|    2021-12-01|         115.0|           null|       R$ / 13 kg|           AMAZONGÁS|2021|\n",
            "|            CO|            DF|    BRASILIA|SOUSA & ALVES COM...| 07.111.605/0001-07| QNM 15 LOTE G AR...|       S/N|            null|        CEILANDIA|72215-150|    GLP|    2021-12-01|         99.99|           null|       R$ / 13 kg|SUPERGASBRAS ENERGIA|2021|\n",
            "|            CO|            DF|    BRASILIA|MARLIM COMBUSTIVE...| 04.494.011/0001-26|          QNO 06 PLL|       S/N|            null|        CEILÂNDIA|72237-100|    GLP|    2021-12-01|         98.99|           null|       R$ / 13 kg|            LIQUIGÁS|2021|\n",
            "|            CO|            DF|    BRASILIA|AUTO SHOPPING DER...| 37.063.328/0009-14| QI 19 LOTES 02 E 04|       S/N|SETOR INDUSTRIAL|       TAGUATINGA|72120-190|    GLP|    2021-12-01|         98.99|           null|       R$ / 13 kg|            ULTRAGAZ|2021|\n",
            "|            CO|            DF|    BRASILIA|LR COMERCIO DE PR...| 24.912.669/0001-18|              QNO 15|       S/N|        LOTE PLL|        CEILANDIA|72255-600|    GLP|    2021-12-01|         99.99|           null|       R$ / 13 kg|              BRANCA|2021|\n",
            "|            CO|            DF|    BRASILIA|CASCOL COMBUSTIVE...| 00.306.597/0015-00|QUADRA QR 516 CON...|         1|            null|    SAMAMBAIA SUL|70772-500|    GLP|    2021-12-01|         99.99|           null|       R$ / 13 kg|            ULTRAGAZ|2021|\n",
            "|            CO|            DF|    BRASILIA|CASCOL COMBUSTIVE...| 00.306.597/0017-64|   QUADRA QNO 05 PLL|       S/N|            null|        CEILANDIA|72251-000|    GLP|    2021-12-01|         99.99|           null|       R$ / 13 kg|            LIQUIGÁS|2021|\n",
            "|            CO|            DF|    BRASILIA|CASCOL COMBUSTIVE...| 00.306.597/0008-73|   SETOR CSD 06 LOTE|        36|     SETOR D SUL|       TAGUATINGA|72020-000|    GLP|    2021-12-01|         97.99|           null|       R$ / 13 kg|            ULTRAGAZ|2021|\n",
            "|            CO|            MS|CAMPO GRANDE|POSTO DOS PODERES...| 24.624.785/0001-31|    AVENIDA DO POETA|       990|            null| DO DESBARRANCADO|79031-350|    GLP|    2021-12-01|         100.0|           null|       R$ / 13 kg|SUPERGASBRAS ENERGIA|2021|\n",
            "|            CO|            MS|CAMPO GRANDE|RIBEIRO DE MENDON...| 16.045.015/0001-06| AVENIDA AFONSO PENA|      5264|            null|CHACARA CACHOEIRA|79040-010|    GLP|    2021-12-01|         116.0|           null|       R$ / 13 kg|             COPAGAZ|2021|\n",
            "|            CO|            MS|CAMPO GRANDE|AUTO POSTO MALIBU...| 02.110.486/0001-46|RUA JOSE NOGUEIRA...|      1310|            null|       TIRADENTES|79042-010|    GLP|    2021-12-01|         95.99|           null|       R$ / 13 kg|            LIQUIGÁS|2021|\n",
            "|            CO|            MS|CAMPO GRANDE| POSTO ROUXINOL LTDA| 00.413.865/0001-80|    AVENIDA ROUXINOL|        35|            null|       TIRADENTES|79041-150|    GLP|    2021-12-01|          98.0|           null|       R$ / 13 kg|             COPAGAZ|2021|\n",
            "|            CO|            MS|    DOURADOS|GABIATTI & GABIAT...| 04.075.654/0001-35|RUA CORONEL PONCIANO|      2230|            null|  VILA INDUSTRIAL|79840-230|    GLP|    2021-12-01|          95.0|           null|       R$ / 13 kg|            LIQUIGÁS|2021|\n",
            "|             N|            PA|       BELEM|AUTO POSTO GK EIRELI| 07.909.407/0001-85|AVENIDA DUQUE DE ...|      1169|            null|            MARCO|66093-400|    GLP|    2021-12-01|         112.0|           null|       R$ / 13 kg| NACIONAL GÁS BUTANO|2021|\n",
            "|             N|            PA|       BELEM|GP PETROLEO COMER...| 06.945.995/0002-20|AVENIDA GENERALIS...|       306|            null|         UMARIZAL|66055-240|    GLP|    2021-12-01|         118.0|           null|       R$ / 13 kg|SUPERGASBRAS ENERGIA|2021|\n",
            "|             N|            PA|       BELEM|IRMAOS TEIXEIRA LTDA| 04.976.718/0003-30|AVENIDA PEDRO ALV...|      3800|            null|       SACRAMENTA|66120-620|    GLP|    2021-12-01|         113.0|           null|       R$ / 13 kg|             BAHIANA|2021|\n",
            "+--------------+--------------+------------+--------------------+-------------------+--------------------+----------+----------------+-----------------+---------+-------+--------------+--------------+---------------+-----------------+--------------------+----+\n",
            "only showing top 20 rows\n",
            "\n"
          ]
        }
      ]
    },
    {
      "cell_type": "markdown",
      "source": [
        "## **Filtrando linhas do SparkDataFrame**"
      ],
      "metadata": {
        "id": "rPZsm-olbS9k"
      }
    },
    {
      "cell_type": "code",
      "source": [
        "# Selecionando somente as cotações realizadas na cidade de Salvador\n",
        "df.filter(df.Municipio == 'SAO PAULO').show()"
      ],
      "metadata": {
        "colab": {
          "base_uri": "https://localhost:8080/"
        },
        "id": "3KQMJA8Yc_sr",
        "outputId": "ee2cc4a6-ac7c-4a73-afa0-26c414dc2f21"
      },
      "execution_count": 35,
      "outputs": [
        {
          "output_type": "stream",
          "name": "stdout",
          "text": [
            "+--------------+--------------+---------+--------------------+-------------------+--------------------+----------+-----------+--------------------+---------+-------+--------------+--------------+---------------+-----------------+--------------------+\n",
            "|Regiao - Sigla|Estado - Sigla|Municipio|             Revenda|    CNPJ da Revenda|         Nome da Rua|Numero Rua|Complemento|              Bairro|      Cep|Produto|Data da Coleta|Valor de Venda|Valor de Compra|Unidade de Medida|            Bandeira|\n",
            "+--------------+--------------+---------+--------------------+-------------------+--------------------+----------+-----------+--------------------+---------+-------+--------------+--------------+---------------+-----------------+--------------------+\n",
            "|            SE|            SP|SAO PAULO|ELENICE MACHADO F...| 01.390.254/0001-26|   AVENIDA BOTURUSSU|      1118|       null|    PARQUE BOTURUSSU|03802-000|    GLP|    2021-12-02|         105.0|           null|       R$ / 13 kg|SUPERGASBRAS ENERGIA|\n",
            "|            SE|            SP|SAO PAULO|V. R. COMÉRCIO DE...| 02.894.531/0001-09|AVENIDA PADRE ORL...|       220|       null|       VILA PENTEADO|02866-170|    GLP|    2021-12-02|         97.99|           null|       R$ / 13 kg|            LIQUIGÁS|\n",
            "|            SE|            SP|SAO PAULO|SUNNY COMERCIO DE...| 03.134.631/0001-91| RUA PAU D'ARCO ROXO|       620|       null| JD PEDRO JOSE NUNES|08061-030|    GLP|    2021-12-02|         100.0|           null|       R$ / 13 kg|SUPERGASBRAS ENERGIA|\n",
            "|            SE|            SP|SAO PAULO|QUALITY COMERCIO ...| 06.106.118/0001-85|RUA DR. JOAQUIM A...|       591|       null|  ERMELINO MATARAZZO|03803-020|    GLP|    2021-12-02|         110.0|           null|       R$ / 13 kg|              BRANCA|\n",
            "|            SE|            SP|SAO PAULO|MONTE GAS COMERCI...| 03.783.536/0001-19|RUA HENRY CHARLES...|       696|       null|       JARDIM ELISIO|02862-000|    GLP|    2021-12-02|         99.99|           null|       R$ / 13 kg|            CONSIGAZ|\n",
            "|            SE|            SP|SAO PAULO|ELZA COMÉRCIO DE ...| 09.062.370/0001-28|    RUA   ROMELANDIA|      47-A|       null|       PARQUE CISPER|03818-040|    GLP|    2021-12-02|         103.0|           null|       R$ / 13 kg|            LIQUIGÁS|\n",
            "|            SE|            SP|SAO PAULO|RINALDO SILVA RAB...| 04.226.092/0001-83|RUA  WENCESLAU GU...|       744|       null|         VILA CISPER|03823-000|    GLP|    2021-12-02|         110.0|           null|       R$ / 13 kg|            ULTRAGAZ|\n",
            "|            SE|            SP|SAO PAULO|I.R. COMÉRCIO DE ...| 07.288.998/0001-10|AVENIDA NOSSA SEN...|      1035|       null|               LIMAO|02715-000|    GLP|    2021-12-02|        105.99|           null|       R$ / 13 kg|            ULTRAGAZ|\n",
            "|            SE|            SP|SAO PAULO|JOSÉ VALDECI DE F...| 05.095.334/0001-00|   AVENIDA ITABERABA|      3740|       null|           ITABERABA|02846-160|    GLP|    2021-12-02|         99.99|           null|       R$ / 13 kg|             COPAGAZ|\n",
            "|            SE|            SP|SAO PAULO|APARECIDA  JOSÉ D...| 06.968.379/0001-04|AVENIDA PADRE  OR...|       243|       null|       VILA PENTEADO|02866-170|    GLP|    2021-12-02|          98.0|           null|       R$ / 13 kg|              BRANCA|\n",
            "|            SE|            SP|SAO PAULO|GASBOM SÃO MIGUEL...| 14.505.875/0001-50|  AVENIDA SÃO MIGUEL|      6850|       null| SÃO MIGUEL PAULISTA|08070-002|    GLP|    2021-12-02|        101.99|           null|       R$ / 13 kg|            CONSIGAZ|\n",
            "|            SE|            SP|SAO PAULO|GASBOM JOÃO PAULO...| 14.871.758/0001-00|AVENIDA DOUTOR MÁ...|        30|       null|      JARDIM DO TIRO|02842-340|    GLP|    2021-12-02|         99.99|           null|       R$ / 13 kg|            CONSIGAZ|\n",
            "|            SE|            SP|SAO PAULO|GAS NORTE COMERCI...| 20.800.739/0001-95|AVENIDA GENERAL P...|      2155|       null|VILA NOVA CACHOEI...|02673-000|    GLP|    2021-12-02|         89.99|           null|       R$ / 13 kg| NACIONAL GÁS BUTANO|\n",
            "|            SE|            SP|SAO PAULO|ELAINE FARIA DA S...| 10.815.283/0001-83|   AVENIDA ITABERABA|      2460|       null|      FREGUESIA DO Ó|02739-000|    GLP|    2021-12-02|        104.99|           null|       R$ / 13 kg|            ULTRAGAZ|\n",
            "|            SE|            SP|SAO PAULO|ALL STAR DISTRIBU...| 30.180.165/0001-53|    AVENIDA MAL TITO|      3240| FUNDOS3332|  JARDIM SILVA TELES|08160-495|    GLP|    2021-12-02|         89.99|           null|       R$ / 13 kg|            CONSIGAZ|\n",
            "|            SE|            SP|SAO PAULO|E V DE SOUZA COME...| 26.252.541/0002-81|AVENIDA GENERAL P...|      1098|       null|VILA NOVA CACHOEI...|02673-000|    GLP|    2021-12-02|          99.0|           null|       R$ / 13 kg|              BRANCA|\n",
            "|            SE|            SP|SAO PAULO|SPRESS GAS COMÉRC...| 01.134.629/0001-97|RUA VITORIA DO ME...|        42|       null|    PARQUE SAO LUCAS|03243-080|    GLP|    2021-12-07|         104.0|           null|       R$ / 13 kg|SUPERGASBRAS ENERGIA|\n",
            "|            SE|            SP|SAO PAULO|  DAVID MANUEL  BRAZ| 01.151.195/0001-33|RUA BARAO DE MONT...|       103|          A|               MOOCA|03123-020|    GLP|    2021-12-07|        114.99|           null|       R$ / 13 kg|            ULTRAGAZ|\n",
            "|            SE|            SP|SAO PAULO|ANTONIO CELESTNO ...| 03.435.196/0001-35|    AVENIDA VILA EMA|      1101|       null|       VILA PRUDENTE|03156-001|    GLP|    2021-12-07|         112.0|           null|       R$ / 13 kg|            ULTRAGAZ|\n",
            "|            SE|            SP|SAO PAULO|MINIS ÁGUA DISTRI...| 03.508.699/0001-93|       RUA ITAPERIMA|       486|       null|            VILA EMA|03160-110|    GLP|    2021-12-07|         107.0|           null|       R$ / 13 kg|            LIQUIGÁS|\n",
            "+--------------+--------------+---------+--------------------+-------------------+--------------------+----------+-----------+--------------------+---------+-------+--------------+--------------+---------------+-----------------+--------------------+\n",
            "only showing top 20 rows\n",
            "\n"
          ]
        }
      ]
    },
    {
      "cell_type": "code",
      "source": [
        "# Selecionando somente as cotações realizadas no PARANÁ ou no RIO GRANDE DO SUL\n",
        "df.filter(\n",
        "    (df['Estado - Sigla'] == 'PR') | \n",
        "    (df['Estado - Sigla'] == 'RS')\n",
        "    ).show()"
      ],
      "metadata": {
        "colab": {
          "base_uri": "https://localhost:8080/"
        },
        "id": "1_BUQlu1nlZO",
        "outputId": "3657bead-4de9-4fd7-84c1-86ea54ad6f98"
      },
      "execution_count": 36,
      "outputs": [
        {
          "output_type": "stream",
          "name": "stdout",
          "text": [
            "+--------------+--------------+-----------------+--------------------+-------------------+--------------------+----------+--------------------+--------------------+---------+-------+--------------+--------------+---------------+-----------------+--------------------+\n",
            "|Regiao - Sigla|Estado - Sigla|        Municipio|             Revenda|    CNPJ da Revenda|         Nome da Rua|Numero Rua|         Complemento|              Bairro|      Cep|Produto|Data da Coleta|Valor de Venda|Valor de Compra|Unidade de Medida|            Bandeira|\n",
            "+--------------+--------------+-----------------+--------------------+-------------------+--------------------+----------+--------------------+--------------------+---------+-------+--------------+--------------+---------------+-----------------+--------------------+\n",
            "|             S|            RS|SANTA CRUZ DO SUL|ZIMMER, GOETTERT ...| 95.422.259/0001-37|       CORREDOR FREY|       475|                null|            SAO JOAO|96832-010|    GLP|    2021-12-01|         107.0|           null|       R$ / 13 kg|            ULTRAGAZ|\n",
            "|             S|            PR|         CURITIBA|POSTO RODOVIA DOS...| 79.434.999/0001-37|   RUA JOSE BAJERSKI|        44|                null|           ABRANCHES|82220-320|    GLP|    2021-12-01|         104.0|           null|       R$ / 13 kg|              BRANCA|\n",
            "|             S|            PR|         CURITIBA|AUTO POSTO ABAETE...| 01.381.547/0001-47|RUA FERNANDO DE N...|      1324|                null|       SANTA CANDIDA|82640-350|    GLP|    2021-12-01|         110.0|           null|       R$ / 13 kg|SUPERGASBRAS ENERGIA|\n",
            "|             S|            RS|       URUGUAIANA|POSTO SAO MATHEUS...| 04.780.762/0001-09|  ESTRADA EST BR 472|       360|            QUADRA23|        SANTO INACIO|97513-010|    GLP|    2021-12-01|         120.0|           null|       R$ / 13 kg|            ULTRAGAZ|\n",
            "|             S|            PR|         LONDRINA|J B L COMERCIO DE...| 00.077.183/0001-43|         RUA GRAFITA|        95|                null|PARQUE WALDEMAR H...|86030-100|    GLP|    2021-12-01|         102.9|           null|       R$ / 13 kg|            ULTRAGAZ|\n",
            "|             S|            RS|SANTA CRUZ DO SUL|DISTRIBUIDORA DE ...| 00.347.568/0001-83|RUA SENADORSALGAD...|       892|                null|              VARZEA|96815-084|    GLP|    2021-12-01|         100.0|           null|       R$ / 13 kg|            LIQUIGÁS|\n",
            "|             S|            PR|           CASTRO|MARIA APARECIDA D...| 00.717.572/0001-96|RUA DR. JAVERT MA...|       563|                null|     VILA RIO BRANCO|84165-970|    GLP|    2021-12-01|          95.0|           null|       R$ / 13 kg|SUPERGASBRAS ENERGIA|\n",
            "|             S|            PR|          MARINGA|AMAZONAS COMERCIO...| 00.792.681/0001-78|   RUA RODOLFO CREMM|      2954|MARG  CONTORNO NORTE|CONJUNTO RESIDENC...|87047-426|    GLP|    2021-12-01|         117.0|           null|       R$ / 13 kg| NACIONAL GÁS BUTANO|\n",
            "|             S|            PR|     PONTA GROSSA|TOP GÁS TRANSPORT...| 00.869.492/0001-56|AVENIDA VISCONDE ...|      4566|                null|            OFICINAS|84045-000|    GLP|    2021-12-01|         100.0|           null|       R$ / 13 kg|SUPERGASBRAS ENERGIA|\n",
            "|             S|            PR|         LONDRINA|CENTRALGAS - COME...| 01.767.903/0001-65|  AV DUQUE DE CAXIAS|      1406|                null|              CENTRO|86015-000|    GLP|    2021-12-01|          98.0|           null|       R$ / 13 kg|              BRANCA|\n",
            "|             S|            PR|          MARINGA|TUIUTI COMÉRCIO D...| 01.787.655/0001-14|          AV. TUIUTI|      2829|                null|    JARDIM PINHEIROS|87043-310|    GLP|    2021-12-01|         105.0|           null|       R$ / 13 kg|            LIQUIGÁS|\n",
            "|             S|            RS|         ALVORADA|      J.H.P. DA CRUZ| 04.064.232/0001-64|AVENIDA DEZESSETE...|         5|                null|           APARECIDA|94853-160|    GLP|    2021-12-01|          90.0|           null|       R$ / 13 kg|            ULTRAGAZ|\n",
            "|             S|            RS|       SANTA ROSA|GOLDENGAS COM. DI...| 04.434.675/0001-08|   RUA EDWINO FENNER|       700|                null|              CENTRO|98900-000|    GLP|    2021-12-01|         110.0|           null|       R$ / 13 kg|            LIQUIGÁS|\n",
            "|             S|            PR| UNIAO DA VITORIA|VIAGAS TRANSPORTE...| 04.978.886/0001-01|AV. BENTO MUNHOZ ...|      3220|                null|        SÃO BERNARDO|84600-000|    GLP|    2021-12-01|         110.0|           null|       R$ / 13 kg|            ULTRAGAZ|\n",
            "|             S|            PR|         CURITIBA|SEIXAS COMERCIO D...| 79.122.917/0001-19|RUA MARIA DE LOUR...|         7|                CASA|              TABOAO|82130-490|    GLP|    2021-12-01|         105.0|           null|       R$ / 13 kg|            ULTRAGAZ|\n",
            "|             S|            RS|           VIAMAO|COMERCIAL DE GAS ...| 94.780.723/0001-02|      RUA MEDIANEIRA|       343|                null|   VILA SANTA ISABEL|94480-600|    GLP|    2021-12-01|         105.0|           null|       R$ / 13 kg|            LIQUIGÁS|\n",
            "|             S|            RS| CACHOEIRA DO SUL|JOSE NALI DOS SAN...| 94.950.896/0001-13|RUA BORGES DE MED...|       357|              TERREO|            CARVALHO|96506-260|    GLP|    2021-12-01|         100.0|           null|       R$ / 13 kg|            ULTRAGAZ|\n",
            "|             S|            RS|         GRAVATAI|COMERCIAL DE GAS ...| 97.381.586/0001-13|AVENIDA DORIVAL C...|      5974|             PDA. 64|         VILA BRANCA|94060-000|    GLP|    2021-12-01|          92.0|           null|       R$ / 13 kg| NACIONAL GÁS BUTANO|\n",
            "|             S|            PR|         CURITIBA|ARNOLDO BATISTA B...| 04.250.207/0001-75|RUA  PERY SOTTO M...|        53|                null|               ATUBA|82630-140|    GLP|    2021-12-01|          99.0|           null|       R$ / 13 kg|            LIQUIGÁS|\n",
            "|             S|            PR|     PONTA GROSSA|TESHIMA & CIA LTD...| 05.413.311/0001-04|RUA DOUTORALVES M...|       S/N| AO LADO DO Nº 1.321|            OFICINAS|84036-095|    GLP|    2021-12-01|         105.0|           null|       R$ / 13 kg|            ULTRAGAZ|\n",
            "+--------------+--------------+-----------------+--------------------+-------------------+--------------------+----------+--------------------+--------------------+---------+-------+--------------+--------------+---------------+-----------------+--------------------+\n",
            "only showing top 20 rows\n",
            "\n"
          ]
        }
      ]
    },
    {
      "cell_type": "code",
      "source": [
        "# Selecionando somente as cotações no estado de São Paulo no dia 10/12/2021\n",
        "df.filter(\n",
        "    (col('Estado - Sigla') == 'SP') & \n",
        "    (col('Data da Coleta') == '2021-12-10')\n",
        "    ).show()"
      ],
      "metadata": {
        "colab": {
          "base_uri": "https://localhost:8080/"
        },
        "id": "MjK5CzKjkytT",
        "outputId": "6a4de16b-a52b-4e48-f1c4-829974e6dda7"
      },
      "execution_count": 37,
      "outputs": [
        {
          "output_type": "stream",
          "name": "stdout",
          "text": [
            "+--------------+--------------+---------+--------------------+-------------------+--------------------+----------+-----------+--------------------+---------+-------+--------------+--------------+---------------+-----------------+--------------------+\n",
            "|Regiao - Sigla|Estado - Sigla|Municipio|             Revenda|    CNPJ da Revenda|         Nome da Rua|Numero Rua|Complemento|              Bairro|      Cep|Produto|Data da Coleta|Valor de Venda|Valor de Compra|Unidade de Medida|            Bandeira|\n",
            "+--------------+--------------+---------+--------------------+-------------------+--------------------+----------+-----------+--------------------+---------+-------+--------------+--------------+---------------+-----------------+--------------------+\n",
            "|            SE|            SP| IBITINGA|COMERCIO DE GAS S...| 01.816.591/0001-32|RUA JOAO JOSE CASADO|       101|       null|    DISTR.INDUSTRIAL|14940-000|    GLP|    2021-12-10|         110.0|           null|       R$ / 13 kg|            LIQUIGÁS|\n",
            "|            SE|            SP|     TUPA|MARIANE CAMBAUVA ...| 10.541.470/0002-05|     RUA ANITA COSTA|       335|       null|         VILA VARGAS|17605-190|    GLP|    2021-12-10|          95.0|           null|       R$ / 13 kg|SUPERGASBRAS ENERGIA|\n",
            "|            SE|            SP| IBITINGA|JOEL MENDES NETO ...| 16.612.760/0001-90|RUA JOSE JOÃO BAS...|       440|       null|      JD PAINEIRAS I|14940-000|    GLP|    2021-12-10|         119.0|           null|       R$ / 13 kg|SUPERGASBRAS ENERGIA|\n",
            "|            SE|            SP| IBITINGA|HERIADINE CAROLIN...| 18.488.426/0001-00| RUA DOUTOR TEIXEIRA|       548|       null|              CENTRO|14940-000|    GLP|    2021-12-10|         120.0|           null|       R$ / 13 kg|            ULTRAGAZ|\n",
            "|            SE|            SP|     TUPA|FLAVIANA RIBEIRO ...| 23.279.873/0001-80|AVENIDA   LUIZ GO...|        90|       null|      CHACARA VELINI|17602-081|    GLP|    2021-12-10|         100.0|           null|       R$ / 13 kg|              BRANCA|\n",
            "|            SE|            SP|     TUPA|ALIETE GOMES JUNQ...| 18.871.205/0001-08|         RUA AIMORES|       238|     FUNDOS|     JARDIM RUBIACEA|17607-020|    GLP|    2021-12-10|          95.0|           null|       R$ / 13 kg|SUPERGASBRAS ENERGIA|\n",
            "|            SE|            SP| IBITINGA|JANIRA APARECIDA ...| 28.688.962/0001-02|ENTRADA IBG MIGUE...|       350|       null|DISTRITO INDUSTRI...|14940-000|    GLP|    2021-12-10|         110.0|           null|       R$ / 13 kg|              BRANCA|\n",
            "|            SE|            SP|     TUPA|JOAO GUILHERME RI...| 30.731.447/0001-00|AVENIDA PRESIDENT...|      1961|       null|         VILA VARGAS|17605-200|    GLP|    2021-12-10|          98.0|           null|       R$ / 13 kg|              BRANCA|\n",
            "|            SE|            SP|     TUPA|LCM COMERCIO DE G...| 29.658.844/0001-06|          RUA BRASIL|      1260|       null|        VILA ESPANHA|17607-090|    GLP|    2021-12-10|          95.0|           null|       R$ / 13 kg|SUPERGASBRAS ENERGIA|\n",
            "|            SE|            SP| IBITINGA|MARIA DE FATIMA J...| 05.590.421/0001-33|RUA MARIA BRIGNE ...|       705|       null|CONJ. HAB. JD. PA...|14940-000|    GLP|    2021-12-10|         110.0|           null|       R$ / 13 kg|              BRANCA|\n",
            "|            SE|            SP|     TUPA|MARIA CELINA NEVE...| 37.207.332/0001-51|         RUA TAPAJOS|       140|       null|              CENTRO|17600-040|    GLP|    2021-12-10|         105.0|           null|       R$ / 13 kg|              BRANCA|\n",
            "+--------------+--------------+---------+--------------------+-------------------+--------------------+----------+-----------+--------------------+---------+-------+--------------+--------------+---------------+-----------------+--------------------+\n",
            "\n"
          ]
        }
      ]
    },
    {
      "cell_type": "code",
      "source": [
        "# Selecionando somente as cotações no estado da Bahia com preço abaixo de R$80\n",
        "df.filter(\n",
        "    (df['Estado - Sigla'] == 'BA') & \n",
        "    (df['Valor de Venda'] >120)\n",
        "    ).show()"
      ],
      "metadata": {
        "colab": {
          "base_uri": "https://localhost:8080/"
        },
        "id": "J_fbVe91oUrc",
        "outputId": "0685c17c-bd9e-4b1b-8fed-03b736ec32da"
      },
      "execution_count": 38,
      "outputs": [
        {
          "output_type": "stream",
          "name": "stdout",
          "text": [
            "+--------------+--------------+---------+-------+---------------+-----------+----------+-----------+------+---+-------+--------------+--------------+---------------+-----------------+--------+\n",
            "|Regiao - Sigla|Estado - Sigla|Municipio|Revenda|CNPJ da Revenda|Nome da Rua|Numero Rua|Complemento|Bairro|Cep|Produto|Data da Coleta|Valor de Venda|Valor de Compra|Unidade de Medida|Bandeira|\n",
            "+--------------+--------------+---------+-------+---------------+-----------+----------+-----------+------+---+-------+--------------+--------------+---------------+-----------------+--------+\n",
            "+--------------+--------------+---------+-------+---------------+-----------+----------+-----------+------+---+-------+--------------+--------------+---------------+-----------------+--------+\n",
            "\n"
          ]
        }
      ]
    },
    {
      "cell_type": "code",
      "source": [
        "# Filtrando linhas com where\n",
        "df.where(\n",
        "    (col('Estado - Sigla') == 'BA') & \n",
        "    (col('Valor de Venda') < 85)\n",
        "    ).show()"
      ],
      "metadata": {
        "colab": {
          "base_uri": "https://localhost:8080/"
        },
        "id": "3sS5NlRFTf8-",
        "outputId": "7cb6cf58-d31b-4a67-968b-a907e2ba26f4"
      },
      "execution_count": 39,
      "outputs": [
        {
          "output_type": "stream",
          "name": "stdout",
          "text": [
            "+--------------+--------------+----------------+--------------------+-------------------+--------------------+----------+------------------+--------------------+---------+-------+--------------+--------------+---------------+-----------------+--------------------+\n",
            "|Regiao - Sigla|Estado - Sigla|       Municipio|             Revenda|    CNPJ da Revenda|         Nome da Rua|Numero Rua|       Complemento|              Bairro|      Cep|Produto|Data da Coleta|Valor de Venda|Valor de Compra|Unidade de Medida|            Bandeira|\n",
            "+--------------+--------------+----------------+--------------------+-------------------+--------------------+----------+------------------+--------------------+---------+-------+--------------+--------------+---------------+-----------------+--------------------+\n",
            "|            NE|            BA|        SALVADOR|CRISPIM SOUZA COM...| 05.092.369/0001-95|RUA FILADELFO CAR...|       S/N|LOT. JARDIM PIRAJÁ|        ÁGUAS CLARAS|41310-240|    GLP|    2021-12-01|         84.99|           null|       R$ / 13 kg|SUPERGASBRAS ENERGIA|\n",
            "|            NE|            BA|        SALVADOR|AMÂNCIA DE OLIVEI...| 12.807.757/0001-70|RUA   GENARO DE C...|       171|           LOJA 01|      CASTELO BRANCO|41320-100|    GLP|    2021-12-01|         84.99|           null|       R$ / 13 kg|             BAHIANA|\n",
            "|            NE|            BA|        SALVADOR|QUERO GÁS COMERCI...| 13.111.556/0001-05|   RUA   FRANK NALVA|        39|              null|        AGUAS CLARAS|41310-340|    GLP|    2021-12-01|          84.0|           null|       R$ / 13 kg|SUPERGASBRAS ENERGIA|\n",
            "|            NE|            BA|        SALVADOR|ERICA BARBOSA LISBOA| 15.327.280/0001-14|    RUA SANTA VERUSA|        68|              null|          PERNAMBUES|41120-000|    GLP|    2021-12-01|          82.0|           null|       R$ / 13 kg|             BAHIANA|\n",
            "|            NE|            BA|        SALVADOR|FILIPE LIMA DOS S...| 36.716.015/0001-06|RUA DOUTOR JORGE ...|       101|              CASA|        AGUAS CLARAS|41310-260|    GLP|    2021-12-01|         84.99|           null|       R$ / 13 kg| NACIONAL GÁS BUTANO|\n",
            "|            NE|            BA|        SALVADOR|JPA COMERCIO VARE...| 37.486.620/0001-92|RUA FILADELFIO CA...|        45|              null|        AGUAS CLARAS|41310-240|    GLP|    2021-12-01|         84.99|           null|       R$ / 13 kg| NACIONAL GÁS BUTANO|\n",
            "|            NE|            BA|          JEQUIE|GIRO GÁS COMÉRCIO...| 10.345.393/0001-29|       RUA BEIRA RIO|       S/N|              null|           MANDACARÚ|45207-050|    GLP|    2021-12-02|          80.0|           null|       R$ / 13 kg|            LIQUIGÁS|\n",
            "|            NE|            BA|        SALVADOR|PATRICIA DE OLIVE...| 11.102.493/0001-97|AVENIDA NESTOR DU...|        93|              null|         SAO CAETANO|40391-200|    GLP|    2021-12-06|         84.99|           null|       R$ / 13 kg|SUPERGASBRAS ENERGIA|\n",
            "|            NE|            BA|    SIMOES FILHO|PVB COMÉRCIO E RE...| 04.967.317/0001-52|   RUA EDMUNDO COSTA|       169|              null|         PITANGUINHA|43700-000|    GLP|    2021-12-07|          82.0|           null|       R$ / 13 kg|              BRANCA|\n",
            "|            NE|            BA|    SIMOES FILHO|PITANGUINHA COMER...| 11.857.353/0001-29|   RUA EDMUNDO COSTA|       169|              null|         PITANGUINHA|43700-000|    GLP|    2021-12-07|          82.0|           null|       R$ / 13 kg|SUPERGASBRAS ENERGIA|\n",
            "|            NE|            BA|          JEQUIE|GIRO GÁS COMÉRCIO...| 10.345.393/0001-29|       RUA BEIRA RIO|       S/N|              null|           MANDACARÚ|45207-050|    GLP|    2021-12-09|          80.0|           null|       R$ / 13 kg|            LIQUIGÁS|\n",
            "|            NE|            BA|          JEQUIE|GIRO GÁS COMÉRCIO...| 10.345.393/0001-29|       RUA BEIRA RIO|       S/N|              null|           MANDACARÚ|45207-050|    GLP|    2021-12-16|          80.0|           null|       R$ / 13 kg|            LIQUIGÁS|\n",
            "|            NE|            BA|        SALVADOR|RM REVENDEDORA DE...| 21.135.101/0001-40|RUA DOUTOR EDSON ...|        SN|            TERREO|          CAJAZEIRAS|41342-165|    GLP|    2021-12-16|          80.0|           null|       R$ / 13 kg|SUPERGASBRAS ENERGIA|\n",
            "|            NE|            BA|          JEQUIE|JV COM VAREJ DE G...| 23.013.800/0001-42|RUA ANTONIO DE JE...|       100|              null|    POMPILIO SAMPAIO|45206-057|    GLP|    2021-12-16|          83.0|           null|       R$ / 13 kg|            LIQUIGÁS|\n",
            "|            NE|            BA|        SALVADOR|RT REVENDENDORA D...| 26.652.963/0001-63|CAMINHO   26-SETO...|         2|            TERREO|          CAJAZEIRAS|41345-280|    GLP|    2021-12-16|          80.0|           null|       R$ / 13 kg|            LIQUIGÁS|\n",
            "|            NE|            BA|        SALVADOR|AMÂNCIA DE OLIVEI...| 12.807.757/0001-70|RUA   GENARO DE C...|       171|           LOJA 01|      CASTELO BRANCO|41320-100|    GLP|    2021-12-20|         84.99|           null|       R$ / 13 kg|             BAHIANA|\n",
            "|            NE|            BA|        SALVADOR|ALEXANDRE MESQUIT...| 31.963.883/0001-69|1A TRAVESSA DAS P...|        34|                LJ|FAZENDA GRANDE DO...|40353-520|    GLP|    2021-12-20|         84.99|           null|       R$ / 13 kg|SUPERGASBRAS ENERGIA|\n",
            "|            NE|            BA|LAURO DE FREITAS|NASCIMENTO GAS EI...| 29.563.452/0001-63|        RUA JUAZEIRO|        41|  QUADRA13 LOT 105|    PARQUE SAO PAULO|42741-150|    GLP|    2021-12-21|         77.99|           null|       R$ / 13 kg|SUPERGASBRAS ENERGIA|\n",
            "|            NE|            BA|        SALVADOR|   RIO SENA GAS LTDA| 04.116.094/0004-62|AVENIDA AFRÂNIO P...|        54|              null|          PLATAFORMA|40717-140|    GLP|    2021-12-22|         84.99|           null|       R$ / 13 kg|SUPERGASBRAS ENERGIA|\n",
            "|            NE|            BA|          JEQUIE|GIRO GÁS COMÉRCIO...| 10.345.393/0001-29|       RUA BEIRA RIO|       S/N|              null|           MANDACARÚ|45207-050|    GLP|    2021-12-22|          80.0|           null|       R$ / 13 kg|            LIQUIGÁS|\n",
            "+--------------+--------------+----------------+--------------------+-------------------+--------------------+----------+------------------+--------------------+---------+-------+--------------+--------------+---------------+-----------------+--------------------+\n",
            "only showing top 20 rows\n",
            "\n"
          ]
        }
      ]
    },
    {
      "cell_type": "markdown",
      "source": [
        "## **Medidas resumos de variáveis numéricas do SparkDataFrame**"
      ],
      "metadata": {
        "id": "FB_8S9kkNnDn"
      }
    },
    {
      "cell_type": "code",
      "source": [
        "# Resumindo variáveis numéricas\n",
        "df.select('Valor de Venda').describe().show()"
      ],
      "metadata": {
        "colab": {
          "base_uri": "https://localhost:8080/"
        },
        "id": "m5-6Ojz8Nvro",
        "outputId": "3059ae49-8c3e-4459-bba4-2311d282bbbd"
      },
      "execution_count": 40,
      "outputs": [
        {
          "output_type": "stream",
          "name": "stdout",
          "text": [
            "+-------+------------------+\n",
            "|summary|    Valor de Venda|\n",
            "+-------+------------------+\n",
            "|  count|             15765|\n",
            "|   mean|103.29313201371957|\n",
            "| stddev| 8.951108633678142|\n",
            "|    min|             77.99|\n",
            "|    max|             140.0|\n",
            "+-------+------------------+\n",
            "\n"
          ]
        }
      ]
    },
    {
      "cell_type": "code",
      "source": [
        "# Resumindo variáveis numéricas com summary\n",
        "df.select('Valor de Venda').summary().show()"
      ],
      "metadata": {
        "colab": {
          "base_uri": "https://localhost:8080/"
        },
        "id": "P6QYmsdQOPTI",
        "outputId": "f13fc33b-b349-4bf6-ab90-066b424c9787"
      },
      "execution_count": 41,
      "outputs": [
        {
          "output_type": "stream",
          "name": "stdout",
          "text": [
            "+-------+------------------+\n",
            "|summary|    Valor de Venda|\n",
            "+-------+------------------+\n",
            "|  count|             15765|\n",
            "|   mean|103.29313201371957|\n",
            "| stddev| 8.951108633678142|\n",
            "|    min|             77.99|\n",
            "|    25%|             97.99|\n",
            "|    50%|             102.0|\n",
            "|    75%|             110.0|\n",
            "|    max|             140.0|\n",
            "+-------+------------------+\n",
            "\n"
          ]
        }
      ]
    },
    {
      "cell_type": "code",
      "source": [
        "# Resumindo variáveis numéricas com summary limitando as estatísticas\n",
        "df.select('Valor de Venda')\\\n",
        ".summary(\"min\", \"5%\",\"25%\", \"50%\",\"75%\", \"95%\",\"max\")\\\n",
        ".show()"
      ],
      "metadata": {
        "colab": {
          "base_uri": "https://localhost:8080/"
        },
        "id": "ZdT-VdZ_QSHX",
        "outputId": "31d13a2e-32da-43f9-9825-b79863ff0e39"
      },
      "execution_count": 42,
      "outputs": [
        {
          "output_type": "stream",
          "name": "stdout",
          "text": [
            "+-------+--------------+\n",
            "|summary|Valor de Venda|\n",
            "+-------+--------------+\n",
            "|    min|         77.99|\n",
            "|     5%|         89.99|\n",
            "|    25%|         97.99|\n",
            "|    50%|         102.0|\n",
            "|    75%|         110.0|\n",
            "|    95%|         120.0|\n",
            "|    max|         140.0|\n",
            "+-------+--------------+\n",
            "\n"
          ]
        }
      ]
    },
    {
      "cell_type": "code",
      "source": [
        "# Algumas estatísticas individuais\n",
        "df.select(\n",
        "  mean('Valor de Venda').alias('Preço médio'),\n",
        "  percentile_approx('Valor de Venda',0.5).alias('Preço Mediano'),\n",
        "  percentile_approx('Valor de Venda',0.25).alias('Q1 do Preço'),\n",
        "  percentile_approx('Valor de Venda',0.75).alias('Q3 do Preço'),\n",
        "  min('Valor de Venda').alias('Preço Mínimo'),\n",
        "  max('Valor de Venda').alias('Preço Máximo')\n",
        ").show()"
      ],
      "metadata": {
        "colab": {
          "base_uri": "https://localhost:8080/"
        },
        "id": "VV3gplq8TfjI",
        "outputId": "2256ba2f-27cf-49d8-fc6d-ba6caf882fb4"
      },
      "execution_count": 43,
      "outputs": [
        {
          "output_type": "stream",
          "name": "stdout",
          "text": [
            "+------------------+-------------+-----------+-----------+------------+------------+\n",
            "|       Preço médio|Preço Mediano|Q1 do Preço|Q3 do Preço|Preço Mínimo|Preço Máximo|\n",
            "+------------------+-------------+-----------+-----------+------------+------------+\n",
            "|103.29313201371957|        102.0|      97.99|      110.0|       77.99|       140.0|\n",
            "+------------------+-------------+-----------+-----------+------------+------------+\n",
            "\n"
          ]
        }
      ]
    },
    {
      "cell_type": "markdown",
      "source": [
        "## **Tabelas de Frequências no PySpark**"
      ],
      "metadata": {
        "id": "42xkMcNGKvJ3"
      }
    },
    {
      "cell_type": "code",
      "source": [
        "# Verificando quantas cotações foram realizadas por região do Brasil\n",
        "df.groupBy('Regiao - Sigla').count().orderBy(col(\"count\").desc()).show()"
      ],
      "metadata": {
        "colab": {
          "base_uri": "https://localhost:8080/"
        },
        "id": "xeV1Pn-fKt2k",
        "outputId": "a6c630f4-f517-42ca-e22b-4f1e13358d16"
      },
      "execution_count": 44,
      "outputs": [
        {
          "output_type": "stream",
          "name": "stdout",
          "text": [
            "+--------------+-----+\n",
            "|Regiao - Sigla|count|\n",
            "+--------------+-----+\n",
            "|            SE| 6905|\n",
            "|             S| 3037|\n",
            "|            NE| 2621|\n",
            "|            CO| 1718|\n",
            "|             N| 1484|\n",
            "+--------------+-----+\n",
            "\n"
          ]
        }
      ]
    },
    {
      "cell_type": "code",
      "source": [
        "# Cotações por Estados cruzados por Regioes do Brasil\n",
        "df.crosstab('Estado - Sigla', 'Regiao - Sigla').show()"
      ],
      "metadata": {
        "colab": {
          "base_uri": "https://localhost:8080/"
        },
        "id": "ZidDqm4JN4Vj",
        "outputId": "64163a5f-1f0c-41c0-c638-dc2d3f7693bb"
      },
      "execution_count": 45,
      "outputs": [
        {
          "output_type": "stream",
          "name": "stdout",
          "text": [
            "+-----------------------------+---+---+---+----+----+\n",
            "|Estado - Sigla_Regiao - Sigla| CO|  N| NE|   S|  SE|\n",
            "+-----------------------------+---+---+---+----+----+\n",
            "|                           MA|  0|  0|144|   0|   0|\n",
            "|                           GO|663|  0|  0|   0|   0|\n",
            "|                           CE|  0|  0|573|   0|   0|\n",
            "|                           AC|  0|114|  0|   0|   0|\n",
            "|                           PR|  0|  0|  0|1317|   0|\n",
            "|                           DF|210|  0|  0|   0|   0|\n",
            "|                           ES|  0|  0|  0|   0| 399|\n",
            "|                           RJ|  0|  0|  0|   0| 808|\n",
            "|                           RO|  0|178|  0|   0|   0|\n",
            "|                           SP|  0|  0|  0|   0|3996|\n",
            "|                           PB|  0|  0|223|   0|   0|\n",
            "|                           SE|  0|  0| 89|   0|   0|\n",
            "|                           RR|  0| 97|  0|   0|   0|\n",
            "|                           RS|  0|  0|  0|1469|   0|\n",
            "|                           BA|  0|  0|558|   0|   0|\n",
            "|                           PI|  0|  0|137|   0|   0|\n",
            "|                           RN|  0|  0|158|   0|   0|\n",
            "|                           MT|408|  0|  0|   0|   0|\n",
            "|                           AM|  0|171|  0|   0|   0|\n",
            "|                           PA|  0|564|  0|   0|   0|\n",
            "+-----------------------------+---+---+---+----+----+\n",
            "only showing top 20 rows\n",
            "\n"
          ]
        }
      ]
    },
    {
      "cell_type": "markdown",
      "source": [
        "## **Análise Estratificada com SparkDataFrame**"
      ],
      "metadata": {
        "id": "GhXRoOcJXRuN"
      }
    },
    {
      "cell_type": "code",
      "source": [
        "# Verificando o preço médio por Região do Brasil\n",
        "df.groupBy('Regiao - Sigla').mean('Valor de Venda').show()"
      ],
      "metadata": {
        "colab": {
          "base_uri": "https://localhost:8080/"
        },
        "id": "tMRWYV8alXMz",
        "outputId": "f7f5604d-734d-47d7-e594-0635a4135c52"
      },
      "execution_count": 46,
      "outputs": [
        {
          "output_type": "stream",
          "name": "stdout",
          "text": [
            "+--------------+-------------------+\n",
            "|Regiao - Sigla|avg(Valor de Venda)|\n",
            "+--------------+-------------------+\n",
            "|            NE|   99.8615030072564|\n",
            "|             N| 111.42243928729363|\n",
            "|             S|  104.3858051268647|\n",
            "|            SE| 101.12792719040635|\n",
            "|            CO|  108.2772406821201|\n",
            "+--------------+-------------------+\n",
            "\n"
          ]
        }
      ]
    },
    {
      "cell_type": "code",
      "source": [
        "# Verificando o preço médio por Região do Brasil\n",
        "df.groupBy('Estado - Sigla').min('Valor de Venda').show(27)"
      ],
      "metadata": {
        "colab": {
          "base_uri": "https://localhost:8080/"
        },
        "id": "6cj5vX2xWvVh",
        "outputId": "f9694307-0200-4859-aa85-8d8e2f1a308e"
      },
      "execution_count": 47,
      "outputs": [
        {
          "output_type": "stream",
          "name": "stdout",
          "text": [
            "+--------------+-------------------+\n",
            "|Estado - Sigla|min(Valor de Venda)|\n",
            "+--------------+-------------------+\n",
            "|            SC|              95.99|\n",
            "|            RO|              100.0|\n",
            "|            PI|              99.99|\n",
            "|            AM|               97.0|\n",
            "|            RR|              105.0|\n",
            "|            GO|              89.49|\n",
            "|            TO|              94.99|\n",
            "|            MT|              84.99|\n",
            "|            SP|              79.99|\n",
            "|            PB|              89.99|\n",
            "|            ES|              79.99|\n",
            "|            RS|               85.0|\n",
            "|            MS|               89.0|\n",
            "|            AL|              86.99|\n",
            "|            MG|               84.9|\n",
            "|            PA|               87.0|\n",
            "|            BA|              77.99|\n",
            "|            SE|               90.0|\n",
            "|            PE|              79.99|\n",
            "|            CE|               88.0|\n",
            "|            RN|               96.0|\n",
            "|            RJ|               78.0|\n",
            "|            MA|               95.0|\n",
            "|            AC|              110.0|\n",
            "|            DF|              89.99|\n",
            "|            PR|               81.9|\n",
            "|            AP|              110.0|\n",
            "+--------------+-------------------+\n",
            "\n"
          ]
        }
      ]
    }
  ]
}